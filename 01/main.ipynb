{
 "cells": [
  {
   "cell_type": "code",
   "execution_count": 1,
   "metadata": {},
   "outputs": [],
   "source": [
    "from json import load\n",
    "from typing import Optional\n",
    "from my_keys import MufexKeys\n",
    "from quantfreedom.exchanges import Mufex\n",
    "from quantfreedom.helpers.helper_funcs import round_size_by_tick_step\n",
    "from pydantic import BaseModel, field_validator, model_validator, ConfigDict\n",
    "\n",
    "%load_ext autoreload\n",
    "%autoreload 2"
   ]
  },
  {
   "cell_type": "code",
   "execution_count": 2,
   "metadata": {},
   "outputs": [],
   "source": [
    "class TradeInfo(BaseModel):\n",
    "    asset_size: float\n",
    "    asset_tick_step: int\n",
    "    entry_price: Optional[float] = None\n",
    "    entry_type: str\n",
    "    exchange: str\n",
    "    long_short: str\n",
    "    sl_price: Optional[float] = None\n",
    "    symbol: str\n",
    "    tp_price: Optional[float] = None\n",
    "\n",
    "    @field_validator(\"long_short\")\n",
    "    @classmethod\n",
    "    def check_long_short(cls, value: str):\n",
    "        if value not in [\"long\", \"short\"]:\n",
    "            raise ValueError('long_short must be either \"long\" or \"short\"')\n",
    "        return value\n",
    "\n",
    "    @model_validator(mode=\"after\")\n",
    "    def model_checker(self):\n",
    "        self.asset_size = round_size_by_tick_step(self.asset_size, self.asset_tick_step)\n",
    "        self.symbol = self.symbol.upper()\n",
    "\n",
    "        if self.entry_type == \"limit\":\n",
    "            if self.entry_price == None:\n",
    "                raise ValueError(\"entry price must be provided for limit orders\")\n",
    "            elif self.sl_price or self.tp_price:\n",
    "                raise ValueError(\"stop loss and take profit must not be provided for limit orders\")\n",
    "\n",
    "        elif self.entry_type == \"market\":\n",
    "            if self.entry_price:\n",
    "                raise ValueError(\"entry price must not be provided for market orders\")\n",
    "            if self.tp_price and self.sl_price:\n",
    "                if self.tp_price <= self.sl_price and self.long_short == \"long\":\n",
    "                    raise ValueError(\"take profit price must be higher than stop loss price\")\n",
    "                elif self.tp_price >= self.sl_price and self.long_short == \"short\":\n",
    "                    raise ValueError(\"take profit price must be lower than stop loss price\")\n",
    "        else:\n",
    "            raise ValueError(\"entry type must be either 'limit' or 'market'\")\n",
    "        return self\n",
    "\n",
    "    model_config = ConfigDict(\n",
    "        # frozen=True,\n",
    "        str_to_lower=True,\n",
    "    )"
   ]
  },
  {
   "cell_type": "code",
   "execution_count": 6,
   "metadata": {},
   "outputs": [
    {
     "name": "stdout",
     "output_type": "stream",
     "text": [
      "asset_size=0.001 asset_tick_step=3 entry_price=None entry_type='market' exchange='mufex' long_short='long' sl_price=69500.0 symbol='BTCUSDT' tp_price=71000.0\n"
     ]
    },
    {
     "data": {
      "text/plain": [
       "TradeInfo(asset_size=0.004, asset_tick_step=3, entry_price=None, entry_type='market', exchange='mufex', long_short='long', sl_price=69300.0, symbol='BTCUSDT', tp_price=70300.0)"
      ]
     },
     "execution_count": 6,
     "metadata": {},
     "output_type": "execute_result"
    }
   ],
   "source": [
    "trades_list: list[TradeInfo] = []\n",
    "\n",
    "with open(\"data.json\") as f:\n",
    "    data = load(f)\n",
    "    for trade in data:\n",
    "        trade_info_single = TradeInfo(**trade)\n",
    "        trades_list.append(trade_info_single)\n",
    "print(trades_list[0])\n",
    "trade_info = trades_list[-1]\n",
    "trade_info"
   ]
  },
  {
   "cell_type": "code",
   "execution_count": 4,
   "metadata": {},
   "outputs": [],
   "source": [
    "mufex_exchange = Mufex(\n",
    "    api_key=MufexKeys.mainnet_testacc_api_key,\n",
    "    secret_key=MufexKeys.mainnet_testacc_secret_key,\n",
    "    use_testnet=False,\n",
    ")"
   ]
  },
  {
   "cell_type": "code",
   "execution_count": 7,
   "metadata": {},
   "outputs": [
    {
     "data": {
      "text/plain": [
       "'305cb520-63d8-4bfa-ace5-33dc7d056c2a'"
      ]
     },
     "execution_count": 7,
     "metadata": {},
     "output_type": "execute_result"
    }
   ],
   "source": [
    "mufex_exchange.create_long_hedge_mode_entry_market_order(\n",
    "    symbol=trade_info.symbol,\n",
    "    asset_size=trade_info.asset_size,\n",
    ")\n",
    "mufex_exchange.create_long_hedge_mode_sl_order(\n",
    "    symbol=trade_info.symbol,\n",
    "    asset_size=trade_info.asset_size,\n",
    "    sl_price=trade_info.sl_price,\n",
    ")\n",
    "mufex_exchange.create_long_hedge_mode_tp_limit_order(\n",
    "    symbol=trade_info.symbol,\n",
    "    asset_size=trade_info.asset_size,\n",
    "    tp_price=trade_info.tp_price,\n",
    ")"
   ]
  }
 ],
 "metadata": {
  "kernelspec": {
   "display_name": "qfree_3_12_3",
   "language": "python",
   "name": "python3"
  },
  "language_info": {
   "codemirror_mode": {
    "name": "ipython",
    "version": 3
   },
   "file_extension": ".py",
   "mimetype": "text/x-python",
   "name": "python",
   "nbconvert_exporter": "python",
   "pygments_lexer": "ipython3",
   "version": "3.12.3"
  }
 },
 "nbformat": 4,
 "nbformat_minor": 2
}
