{
 "cells": [
  {
   "cell_type": "code",
   "execution_count": 1,
   "metadata": {},
   "outputs": [],
   "source": [
    "from json import load, dumps"
   ]
  },
  {
   "cell_type": "code",
   "execution_count": 2,
   "metadata": {},
   "outputs": [
    {
     "data": {
      "text/plain": [
       "[{'asset_size': 0.0013756,\n",
       "  'asset_tick_step': 3,\n",
       "  'entry_price': None,\n",
       "  'entry_type': 'Market',\n",
       "  'exchange': 'MUFEX',\n",
       "  'long_short': 'LONG',\n",
       "  'sl_price': 69500,\n",
       "  'symbol': 'btcusdt',\n",
       "  'tp_price': 71000},\n",
       " {'asset_size': 0.05,\n",
       "  'asset_tick_step': 3,\n",
       "  'entry_price': None,\n",
       "  'entry_type': 'Market',\n",
       "  'exchange': 'MUFEX',\n",
       "  'long_short': 'Short',\n",
       "  'sl_price': None,\n",
       "  'symbol': 'BTCUSDT',\n",
       "  'tp_price': 69000},\n",
       " {'asset_size': 1.1,\n",
       "  'asset_tick_step': 2,\n",
       "  'entry_price': None,\n",
       "  'entry_type': 'Market',\n",
       "  'exchange': 'Bybit',\n",
       "  'long_short': 'Long',\n",
       "  'sl_price': 3690,\n",
       "  'symbol': 'ETHUSDT',\n",
       "  'tp_price': 4000},\n",
       " {'asset_size': 1000,\n",
       "  'asset_tick_step': 0,\n",
       "  'entry_price': 0.45,\n",
       "  'entry_type': 'limit',\n",
       "  'exchange': 'Bybit',\n",
       "  'long_short': 'LONG',\n",
       "  'sl_price': None,\n",
       "  'symbol': 'XRPUSDT',\n",
       "  'tp_price': None},\n",
       " {'asset_size': 0.0036419,\n",
       "  'asset_tick_step': 3,\n",
       "  'entry_price': None,\n",
       "  'entry_type': 'market',\n",
       "  'exchange': 'MUFEX',\n",
       "  'long_short': 'LONG',\n",
       "  'sl_price': 69300,\n",
       "  'symbol': 'btcusdt',\n",
       "  'tp_price': 70300}]"
      ]
     },
     "execution_count": 2,
     "metadata": {},
     "output_type": "execute_result"
    }
   ],
   "source": [
    "with open('data.json') as f:\n",
    "    data = load(f)\n",
    "data"
   ]
  },
  {
   "cell_type": "code",
   "execution_count": null,
   "metadata": {},
   "outputs": [],
   "source": []
  }
 ],
 "metadata": {
  "kernelspec": {
   "display_name": "qfree_3_12_3",
   "language": "python",
   "name": "python3"
  },
  "language_info": {
   "codemirror_mode": {
    "name": "ipython",
    "version": 3
   },
   "file_extension": ".py",
   "mimetype": "text/x-python",
   "name": "python",
   "nbconvert_exporter": "python",
   "pygments_lexer": "ipython3",
   "version": "3.12.3"
  }
 },
 "nbformat": 4,
 "nbformat_minor": 2
}
