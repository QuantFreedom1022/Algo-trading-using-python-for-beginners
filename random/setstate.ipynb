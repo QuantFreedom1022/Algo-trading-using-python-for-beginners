{
 "cells": [
  {
   "cell_type": "code",
   "execution_count": null,
   "metadata": {},
   "outputs": [],
   "source": [
    "# import the random module \n",
    "import random \n",
    "\n",
    "# capture the current state \n",
    "# using the getstate() method \n",
    "state = random.getstate() \n",
    "\n",
    "# print a random number of the \n",
    "# captured state \n",
    "num = random.random() \n",
    "print(\"A random number of the captured state: \"+ str(num)) \n",
    "\n",
    "# print another random number \n",
    "num = random.random() \n",
    "print(\"Another random number: \"+ str(num)) \n",
    "\n",
    "# restore the captured state \n",
    "# using the setstate() method \n",
    "# pass the captured state as the parameter \n",
    "random.setstate(state) \n",
    "\n",
    "# now printing the same random number \n",
    "# as in the captured state \n",
    "num = random.random() \n",
    "print(\"The random number of the previously captured state: \"+ str(num)) \n"
   ]
  },
  {
   "cell_type": "code",
   "execution_count": null,
   "metadata": {},
   "outputs": [],
   "source": [
    "# import the random module \n",
    "import random \n",
    "\n",
    "\n",
    "list1 = [1, 2, 3, 4, 5] \n",
    "\n",
    "# capture the current state \n",
    "# using the getstate() method \n",
    "state = random.getstate() \n",
    "\n",
    "# Prints list of random items of given length \n",
    "print(random.sample(list1, 3)) \n",
    "\n",
    "# restore the captured state \n",
    "# using the setstate() method \n",
    "# pass the captured state as the parameter \n",
    "random.setstate(state) \n",
    "\n",
    "# now printing the same list of random \n",
    "# items \n",
    "print(random.sample(list1, 3)) \n"
   ]
  }
 ],
 "metadata": {
  "language_info": {
   "name": "python"
  }
 },
 "nbformat": 4,
 "nbformat_minor": 2
}
