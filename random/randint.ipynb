{
 "cells": [
  {
   "cell_type": "code",
   "execution_count": null,
   "metadata": {},
   "outputs": [],
   "source": [
    "# Python3 program explaining work\n",
    "# of randint() function\n",
    "\n",
    "# imports random module\n",
    "import random\n",
    "\n",
    "# Generates a random number between\n",
    "# a given positive range\n",
    "r1 = random.randint(0, 10)\n",
    "print(\"Random number between 0 and 10 is % s\" % (r1))\n",
    "\n",
    "# Generates a random number between \n",
    "# two given negative range\n",
    "r2 = random.randint(-10, -1)\n",
    "print(\"Random number between -10 and -1 is % d\" % (r2))\n",
    "\n",
    "# Generates a random number between \n",
    "# a positive and a negative range\n",
    "r3 = random.randint(-5, 5)\n",
    "print(\"Random number between -5 and 5 is % d\" % (r3))\n"
   ]
  },
  {
   "cell_type": "code",
   "execution_count": 1,
   "metadata": {},
   "outputs": [
    {
     "name": "stdout",
     "output_type": "stream",
     "text": [
      "474\n",
      "644\n",
      "315\n",
      "368\n",
      "180\n"
     ]
    }
   ],
   "source": [
    "import random\n",
    "beg,end=1,1000\n",
    "for i in range(5):\n",
    "\tprint(random.randint(beg, end))\n"
   ]
  },
  {
   "cell_type": "code",
   "execution_count": null,
   "metadata": {},
   "outputs": [],
   "source": [
    "# importing randint function\n",
    "# from random module\n",
    "from random import randint\n",
    "\n",
    "# Function which generates a new \n",
    "# random number everytime it executes\n",
    "def generator():\n",
    "\treturn randint(1, 10)\n",
    "\t\n",
    "# Function takes user input and returns\n",
    "# true or false depending whether the\n",
    "# user wins the lucky draw!\n",
    "def rand_guess():\n",
    "\n",
    "\t# calls generator() which returns a\n",
    "\t# random integer between 1 and 10\n",
    "\trandom_number = generator()\n",
    "\t\n",
    "\t# defining the number of\n",
    "\t# guesses the user gets\n",
    "\tguess_left = 3\n",
    "\n",
    "\t# Setting a flag variable to check\n",
    "\t# the win-condition for user\n",
    "\tflag = 0\n",
    "\n",
    "\t# looping the number of times\n",
    "\t# the user gets chances\n",
    "\twhile guess_left > 0:\n",
    "\n",
    "\t\t# Taking a input from the user\n",
    "\t\tguess = int(input(\"Pick your number to \"\n",
    "\t\t\t\t\t\"enter the lucky draw\\n\"))\n",
    "\n",
    "\t\t# checking whether user's guess\n",
    "\t\t# matches the generated win-condition\n",
    "\t\tif guess == random_number:\n",
    "\n",
    "\t\t\t# setting flag as 1 if user guesses \n",
    "\t\t\t# correctly and then loop is broken\n",
    "\t\t\tflag = 1\n",
    "\t\t\tbreak\n",
    "\t\t\n",
    "\t\telse:\n",
    "\t\t\t\n",
    "\t\t\t# If user's choice doesn't match\n",
    "\t\t\t# win-condition then it is printed\n",
    "\t\t\tprint(\"Wrong Guess!!\")\n",
    "\n",
    "\t\t# Decrementing number of \n",
    "\t\t# guesses left by 1 \n",
    "\t\tguess_left -= 1\n",
    "\n",
    "\t# If win-condition is satisfied then,\n",
    "\t# the function rand_guess returns True\n",
    "\tif flag is 1:\n",
    "\t\treturn True\n",
    "\n",
    "\t# Else the function returns False\n",
    "\telse:\n",
    "\t\treturn False\n",
    "\n",
    "# Driver code\n",
    "if __name__ == '__main__':\n",
    "\tif rand_guess() is True:\n",
    "\t\tprint(\"Congrats!! You Win.\")\n",
    "\telse :\n",
    "\t\tprint(\"Sorry, You Lost!\")\n"
   ]
  }
 ],
 "metadata": {
  "kernelspec": {
   "display_name": "qfree_3_12_4",
   "language": "python",
   "name": "python3"
  },
  "language_info": {
   "codemirror_mode": {
    "name": "ipython",
    "version": 3
   },
   "file_extension": ".py",
   "mimetype": "text/x-python",
   "name": "python",
   "nbconvert_exporter": "python",
   "pygments_lexer": "ipython3",
   "version": "3.12.4"
  }
 },
 "nbformat": 4,
 "nbformat_minor": 2
}
