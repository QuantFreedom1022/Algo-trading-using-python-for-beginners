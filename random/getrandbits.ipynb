{
 "cells": [
  {
   "cell_type": "code",
   "execution_count": null,
   "metadata": {},
   "outputs": [],
   "source": [
    "# import the random module\n",
    "import random\n",
    "\n",
    "# a random number with 4 bits\n",
    "print(random.getrandbits(4))\n",
    "\n",
    "# a random number with 16 bits\n",
    "print(random.getrandbits(16))\n"
   ]
  },
  {
   "cell_type": "code",
   "execution_count": null,
   "metadata": {},
   "outputs": [],
   "source": [
    "# import the random module\n",
    "import random\n",
    "\n",
    "# 5 random number with 4 bits\n",
    "for i in range(4):\n",
    "\tprint(random.getrandbits(4))\n"
   ]
  }
 ],
 "metadata": {
  "language_info": {
   "name": "python"
  }
 },
 "nbformat": 4,
 "nbformat_minor": 2
}
