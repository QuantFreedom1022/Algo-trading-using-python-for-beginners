{
 "cells": [
  {
   "cell_type": "code",
   "execution_count": 1,
   "metadata": {},
   "outputs": [
    {
     "name": "stdout",
     "output_type": "stream",
     "text": [
      "1\n",
      "i\n"
     ]
    }
   ],
   "source": [
    "# Python3 program to demonstrate the use of \n",
    "# choice() method \n",
    "\n",
    "# import random \n",
    "import random \n",
    "\n",
    "# prints a random value from the list \n",
    "list1 = [1, 2, 3, 4, 5, 6] \n",
    "print(random.choice(list1)) \n",
    "\n",
    "# prints a random item from the string \n",
    "string = \"striver\"\n",
    "print(random.choice(string)) \n"
   ]
  },
  {
   "cell_type": "code",
   "execution_count": 2,
   "metadata": {},
   "outputs": [
    {
     "name": "stdout",
     "output_type": "stream",
     "text": [
      "1\n",
      "7\n",
      "7\n",
      "2\n",
      "5\n"
     ]
    }
   ],
   "source": [
    "# Python3 program to demonstrate the practical application \n",
    "# choice() \n",
    "\n",
    "# import random module \n",
    "import random \n",
    "\n",
    "list1 = [1, 2, 3, 4, 5, 6, 7, 8, 9, 10] \n",
    "\n",
    "for x in range(5): \n",
    "\tprint(random.choice(list1)) \n"
   ]
  },
  {
   "cell_type": "code",
   "execution_count": 3,
   "metadata": {},
   "outputs": [
    {
     "name": "stdout",
     "output_type": "stream",
     "text": [
      "['geeks', 'geeks', 'geeks', 'python', 'geeks']\n"
     ]
    }
   ],
   "source": [
    "import random \n",
    "\n",
    "mylist = [\"geeks\", \"for\", \"python\"] \n",
    "\n",
    "print(random.choices(mylist, weights = [10, 1, 1], k = 5)) \n"
   ]
  },
  {
   "cell_type": "code",
   "execution_count": 4,
   "metadata": {},
   "outputs": [
    {
     "name": "stdout",
     "output_type": "stream",
     "text": [
      "['apple', 'apple', 'banana', 'apple', 'banana', 'apple']\n"
     ]
    }
   ],
   "source": [
    "import random \n",
    "\n",
    "mylist = [\"apple\", \"banana\", \"mango\"] \n",
    "\n",
    "print(random.choices(mylist, weights = [10, 1, 1], k = 6)) \n"
   ]
  },
  {
   "cell_type": "code",
   "execution_count": null,
   "metadata": {},
   "outputs": [],
   "source": []
  }
 ],
 "metadata": {
  "kernelspec": {
   "display_name": "qfree_3_12_4",
   "language": "python",
   "name": "python3"
  },
  "language_info": {
   "codemirror_mode": {
    "name": "ipython",
    "version": 3
   },
   "file_extension": ".py",
   "mimetype": "text/x-python",
   "name": "python",
   "nbconvert_exporter": "python",
   "pygments_lexer": "ipython3",
   "version": "3.12.4"
  }
 },
 "nbformat": 4,
 "nbformat_minor": 2
}
