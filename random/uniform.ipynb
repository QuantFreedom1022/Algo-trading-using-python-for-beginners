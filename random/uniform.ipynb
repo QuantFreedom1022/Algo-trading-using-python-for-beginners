{
 "cells": [
  {
   "cell_type": "code",
   "execution_count": 1,
   "metadata": {},
   "outputs": [
    {
     "name": "stdout",
     "output_type": "stream",
     "text": [
      "The random number generated between 4 and 9 is : 7.586857945438302\n"
     ]
    }
   ],
   "source": [
    "# Python3 code to demonstrate \n",
    "# the working of uniform() \n",
    "\n",
    "# for using uniform() \n",
    "import random \n",
    "\n",
    "# initializing bounds \n",
    "a = 4\n",
    "b = 9\n",
    "\n",
    "# printing the random number \n",
    "print(\"The random number generated between 4 and 9 is : \", end =\"\") \n",
    "print(random.uniform(a, b)) \n"
   ]
  },
  {
   "cell_type": "code",
   "execution_count": 2,
   "metadata": {},
   "outputs": [
    {
     "name": "stdout",
     "output_type": "stream",
     "text": [
      "The winner of game is : Player1\n"
     ]
    }
   ],
   "source": [
    "# Python3 code to demonstrate \n",
    "# the application of uniform() \n",
    "\n",
    "# for using uniform() \n",
    "import random, math \n",
    "\n",
    "# initializing player numbers \n",
    "player1 = 4.50\n",
    "player2 = 3.78\n",
    "player3 = 6.54\n",
    "\n",
    "# generating winner random number \n",
    "winner = random.uniform(2, 9) \n",
    "\n",
    "# finding closest \n",
    "diffa = math.fabs(winner - player1) \n",
    "diffb = math.fabs(winner - player2) \n",
    "diffc = math.fabs(winner - player3) \n",
    "\n",
    "# printing winner \n",
    "if(diffa < diffb and diffa < diffc): \n",
    "\tprint(\"The winner of game is : \", end =\"\") \n",
    "\tprint(\"Player1\") \n",
    "\n",
    "if(diffb < diffc and diffb < diffa): \n",
    "\tprint(\"The winner of game is : \", end =\"\") \n",
    "\tprint(\"Player2\") \n",
    "\t\n",
    "if(diffc < diffb and diffc < diffa): \n",
    "\tprint(\"The winner of game is : \", end =\"\") \n",
    "\tprint(\"Player3\") \n"
   ]
  },
  {
   "cell_type": "code",
   "execution_count": null,
   "metadata": {},
   "outputs": [],
   "source": []
  }
 ],
 "metadata": {
  "kernelspec": {
   "display_name": "qfree_3_12_4",
   "language": "python",
   "name": "python3"
  },
  "language_info": {
   "codemirror_mode": {
    "name": "ipython",
    "version": 3
   },
   "file_extension": ".py",
   "mimetype": "text/x-python",
   "name": "python",
   "nbconvert_exporter": "python",
   "pygments_lexer": "ipython3",
   "version": "3.12.4"
  }
 },
 "nbformat": 4,
 "nbformat_minor": 2
}
