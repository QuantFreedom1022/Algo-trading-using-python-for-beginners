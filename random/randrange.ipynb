{
 "cells": [
  {
   "cell_type": "code",
   "execution_count": 6,
   "metadata": {},
   "outputs": [
    {
     "name": "stdout",
     "output_type": "stream",
     "text": [
      "Random number from 0-100 is : 23\n",
      "Random number from 50-100 is : 66\n",
      "Random number from 50-100 is : 75\n"
     ]
    }
   ],
   "source": [
    "# Python code to demonstrate the Exception of\n",
    "# randrange(), ValueError, start >= start\n",
    "\n",
    "import random\n",
    "\n",
    "# Using randrange() to generate numbers from 500-100\n",
    "# Raises Exception\n",
    "print(\"Random number from 0-100 is : \", end=\"\")\n",
    "print(random.randrange(start=0, stop=100))\n",
    "print(\"Random number from 50-100 is : \", end=\"\")\n",
    "print(random.randrange(start=50, stop=100))\n",
    "print(\"Random number from 50-100 is : \", end=\"\")\n",
    "print(random.randrange(start=50, stop=100, step=5))"
   ]
  },
  {
   "cell_type": "code",
   "execution_count": 50,
   "metadata": {},
   "outputs": [
    {
     "name": "stdout",
     "output_type": "stream",
     "text": [
      "Total score of Player 1 after turn 1 is : 4 \n",
      "Total score of Player 2 after turn 1 is : 9\n",
      "Total score of Player 1 after turn 2 is : 10 \n",
      "Total score of Player 2 after turn 2 is : 16\n",
      "Total score of Player 1 after turn 3 is : 19 \n",
      "Total score of Player 2 after turn 3 is : 17\n",
      "Total score of Player 1 after turn 4 is : 20 \n",
      "Total score of Player 2 after turn 4 is : 22\n",
      "Total score of Player 1 after turn 5 is : 29 \n",
      "Total score of Player 2 after turn 5 is : 30\n",
      "Total score of Player 1 after turn 6 is : 37 \n",
      "Total score of Player 2 after turn 6 is : 32\n",
      "Total score of Player 1 after turn 7 is : 41 \n",
      "Total score of Player 2 after turn 7 is : 38\n",
      "Total score of Player 1 after turn 8 is : 45 \n",
      "Total score of Player 2 after turn 8 is : 41\n",
      "Total score of Player 1 after turn 9 is : 47 \n",
      "Total score of Player 2 after turn 9 is : 48\n",
      "Total score of Player 1 after turn 10 is : 50 \n",
      "Total score of Player 2 after turn 10 is : 52\n",
      "Total score of Player 1 after turn 11 is : 58 \n",
      "Total score of Player 2 after turn 11 is : 53\n",
      "Total score of Player 1 after turn 12 is : 59 \n",
      "Total score of Player 2 after turn 12 is : 62\n",
      "Total score of Player 1 after turn 13 is : 63 \n",
      "Total score of Player 2 after turn 13 is : 65\n",
      "Total score of Player 1 after turn 14 is : 64 \n",
      "Total score of Player 2 after turn 14 is : 73\n",
      "Total score of Player 1 after turn 15 is : 68 \n",
      "Total score of Player 2 after turn 15 is : 78\n",
      "Total score of Player 1 after turn 16 is : 72 \n",
      "Total score of Player 2 after turn 16 is : 84\n",
      "Total score of Player 1 after turn 17 is : 79 \n",
      "Total score of Player 2 after turn 17 is : 85\n",
      "Total score of Player 1 after turn 18 is : 81 \n",
      "Total score of Player 2 after turn 18 is : 88\n",
      "Total score of Player 1 after turn 19 is : 84 \n",
      "Total score of Player 2 after turn 19 is : 94\n",
      "Total score of Player 1 after turn 20 is : 93 \n",
      "Total score of Player 2 after turn 20 is : 100\n",
      "\n",
      "Player 2 wins the game\n"
     ]
    }
   ],
   "source": [
    "# Python code to demonstrate the Application of\n",
    "# randrange()\n",
    "\n",
    "import random\n",
    "\n",
    "sum = 0\n",
    "sum1 = 0\n",
    "count = 0\n",
    "flag = 0\n",
    "\n",
    "while True:\n",
    "\n",
    "    # generate random number at each turn 1-10\n",
    "    r1 = random.randrange(1, 10)\n",
    "    r2 = random.randrange(1, 10)\n",
    "\n",
    "    # adding to account of players\n",
    "    sum = sum + r1\n",
    "    sum1 = sum1 + r2\n",
    "    count = count + 1\n",
    "\n",
    "    print(\"Total score of Player 1 after turn %d is : %d \" % (count, sum))\n",
    "\n",
    "    # break when player 1 reaches 100\n",
    "    if sum >= 100:\n",
    "        flag = 1\n",
    "        break\n",
    "    print(\"Total score of Player 2 after turn %d is : %d\" % (count, sum1))\n",
    "\n",
    "    # break when player 2 reaches 100\n",
    "    if sum1 >= 100:\n",
    "        flag = 2\n",
    "        break\n",
    "\n",
    "if flag == 1:\n",
    "    print(\"\\nPlayer 1 wins the game\")\n",
    "else:\n",
    "    print(\"\\nPlayer 2 wins the game\")"
   ]
  }
 ],
 "metadata": {
  "kernelspec": {
   "display_name": "qfree_3_12_4",
   "language": "python",
   "name": "python3"
  },
  "language_info": {
   "codemirror_mode": {
    "name": "ipython",
    "version": 3
   },
   "file_extension": ".py",
   "mimetype": "text/x-python",
   "name": "python",
   "nbconvert_exporter": "python",
   "pygments_lexer": "ipython3",
   "version": "3.12.4"
  }
 },
 "nbformat": 4,
 "nbformat_minor": 2
}
