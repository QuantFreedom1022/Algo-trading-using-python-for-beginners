{
 "cells": [
  {
   "cell_type": "code",
   "execution_count": 1,
   "metadata": {},
   "outputs": [
    {
     "name": "stdout",
     "output_type": "stream",
     "text": [
      "865\n",
      "865\n",
      "865\n",
      "865\n",
      "865\n"
     ]
    }
   ],
   "source": [
    "# random module is imported\n",
    "import random\n",
    "\n",
    "for i in range(5):\n",
    "\n",
    "    # Any number can be used in place of '0'.\n",
    "    random.seed(0)\n",
    "\n",
    "    # Generated random number will be between 1 to 1000.\n",
    "    print(random.randint(1, 1000))"
   ]
  },
  {
   "cell_type": "code",
   "execution_count": 2,
   "metadata": {},
   "outputs": [
    {
     "name": "stdout",
     "output_type": "stream",
     "text": [
      "244\n",
      "244\n",
      "607\n"
     ]
    }
   ],
   "source": [
    "random.seed(3)\n",
    "\n",
    "# print a random number between 1 and 1000.\n",
    "print(random.randint(1, 1000))\n",
    "\n",
    "# if you want to get the same random number again then,\n",
    "random.seed(3)\n",
    "print(random.randint(1, 1000))\n",
    "\n",
    "# If seed function is not used\n",
    "\n",
    "# Gives totally unpredictable responses.\n",
    "print(random.randint(1, 1000))"
   ]
  }
 ],
 "metadata": {
  "kernelspec": {
   "display_name": "qfree_3_12_4",
   "language": "python",
   "name": "python3"
  },
  "language_info": {
   "codemirror_mode": {
    "name": "ipython",
    "version": 3
   },
   "file_extension": ".py",
   "mimetype": "text/x-python",
   "name": "python",
   "nbconvert_exporter": "python",
   "pygments_lexer": "ipython3",
   "version": "3.12.4"
  }
 },
 "nbformat": 4,
 "nbformat_minor": 2
}
