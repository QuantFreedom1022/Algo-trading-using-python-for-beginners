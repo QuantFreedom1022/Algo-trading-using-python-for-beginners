{
 "cells": [
  {
   "cell_type": "markdown",
   "metadata": {},
   "source": [
    "01 Working File"
   ]
  },
  {
   "cell_type": "code",
   "execution_count": 2,
   "metadata": {},
   "outputs": [],
   "source": [
    "import numpy as np\n",
    "import plotly.graph_objects as go\n",
    "\n",
    "from quantfreedom.enums import CandleBodyType\n",
    "from quantfreedom.helper_funcs import dl_ex_candles\n",
    "from quantfreedom.indicators.tv_indicators import ema_tv\n",
    "\n",
    "np.set_printoptions(formatter={\"float_kind\": \"{:0.2f}\".format})\n",
    "\n",
    "%load_ext autoreload\n",
    "%autoreload 2"
   ]
  },
  {
   "cell_type": "code",
   "execution_count": 4,
   "metadata": {},
   "outputs": [],
   "source": [
    "candles = dl_ex_candles(\n",
    "    exchange=\"mufex\",\n",
    "    symbol=\"BTCUSDT\",\n",
    "    timeframe=\"5m\",\n",
    "    candles_to_dl=1500,\n",
    ")\n",
    "timestamps = candles[:, CandleBodyType.Timestamp]\n",
    "datetimes = timestamps.astype(\"datetime64[ms]\")\n",
    "open_prices = candles[:, CandleBodyType.Open]\n",
    "high_prices = candles[:, CandleBodyType.High]\n",
    "low_prices = candles[:, CandleBodyType.Low]\n",
    "close_prices = candles[:, CandleBodyType.Close]\n",
    "volume = candles[:, CandleBodyType.Volume]"
   ]
  }
 ],
 "metadata": {
  "kernelspec": {
   "display_name": "qfree",
   "language": "python",
   "name": "python3"
  },
  "language_info": {
   "codemirror_mode": {
    "name": "ipython",
    "version": 3
   },
   "file_extension": ".py",
   "mimetype": "text/x-python",
   "name": "python",
   "nbconvert_exporter": "python",
   "pygments_lexer": "ipython3",
   "version": "3.10.10"
  }
 },
 "nbformat": 4,
 "nbformat_minor": 2
}
