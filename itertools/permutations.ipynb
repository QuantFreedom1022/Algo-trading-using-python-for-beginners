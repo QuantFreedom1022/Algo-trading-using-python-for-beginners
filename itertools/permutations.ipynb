{
 "cells": [
  {
   "cell_type": "code",
   "execution_count": 2,
   "metadata": {},
   "outputs": [],
   "source": [
    "from itertools import permutations "
   ]
  },
  {
   "cell_type": "code",
   "execution_count": null,
   "metadata": {},
   "outputs": [],
   "source": [
    "for v in permutations(['A', 'B', 'C']):\n",
    "    print(v)"
   ]
  },
  {
   "cell_type": "code",
   "execution_count": 7,
   "metadata": {},
   "outputs": [
    {
     "data": {
      "text/plain": [
       "[('A', 'B', 'C'),\n",
       " ('A', 'C', 'B'),\n",
       " ('B', 'A', 'C'),\n",
       " ('B', 'C', 'A'),\n",
       " ('C', 'A', 'B'),\n",
       " ('C', 'B', 'A')]"
      ]
     },
     "execution_count": 7,
     "metadata": {},
     "output_type": "execute_result"
    }
   ],
   "source": [
    "list(permutations([\"A\", \"B\", \"C\"]))"
   ]
  },
  {
   "cell_type": "code",
   "execution_count": 3,
   "metadata": {},
   "outputs": [
    {
     "name": "stdout",
     "output_type": "stream",
     "text": [
      "('G', 'e', 'E', 'K')\n",
      "('G', 'e', 'K', 'E')\n",
      "('G', 'E', 'e', 'K')\n",
      "('G', 'E', 'K', 'e')\n",
      "('G', 'K', 'e', 'E')\n",
      "('G', 'K', 'E', 'e')\n",
      "('e', 'G', 'E', 'K')\n",
      "('e', 'G', 'K', 'E')\n",
      "('e', 'E', 'G', 'K')\n",
      "('e', 'E', 'K', 'G')\n",
      "('e', 'K', 'G', 'E')\n",
      "('e', 'K', 'E', 'G')\n",
      "('E', 'G', 'e', 'K')\n",
      "('E', 'G', 'K', 'e')\n",
      "('E', 'e', 'G', 'K')\n",
      "('E', 'e', 'K', 'G')\n",
      "('E', 'K', 'G', 'e')\n",
      "('E', 'K', 'e', 'G')\n",
      "('K', 'G', 'e', 'E')\n",
      "('K', 'G', 'E', 'e')\n",
      "('K', 'e', 'G', 'E')\n",
      "('K', 'e', 'E', 'G')\n",
      "('K', 'E', 'G', 'e')\n",
      "('K', 'E', 'e', 'G')\n"
     ]
    }
   ],
   "source": [
    "a = \"GeEK\"\n",
    "\n",
    "# no length entered so default length\n",
    "# taken as 4(the length of string GeEK)\n",
    "p = permutations(a)\n",
    "\n",
    "# Print the obtained permutations\n",
    "for j in list(p):\n",
    "    print(j)"
   ]
  },
  {
   "cell_type": "code",
   "execution_count": 4,
   "metadata": {},
   "outputs": [
    {
     "name": "stdout",
     "output_type": "stream",
     "text": [
      "All the permutations of the given list is:\n",
      "[(1, 'geeks'), ('geeks', 1)]\n",
      "\n",
      "All the permutations of the given string is:\n",
      "[('A', 'B'), ('B', 'A')]\n",
      "\n",
      "All the permutations of the given container is:\n",
      "[(0, 1), (0, 2), (1, 0), (1, 2), (2, 0), (2, 1)]\n"
     ]
    }
   ],
   "source": [
    "print(\"All the permutations of the given list is:\")\n",
    "print(list(permutations([1, \"geeks\"], 2)))\n",
    "print()\n",
    "\n",
    "print(\"All the permutations of the given string is:\")\n",
    "print(list(permutations(\"AB\")))\n",
    "print()\n",
    "\n",
    "print(\"All the permutations of the given container is:\")\n",
    "print(list(permutations(range(3), 2)))"
   ]
  },
  {
   "cell_type": "code",
   "execution_count": 5,
   "metadata": {},
   "outputs": [
    {
     "name": "stdout",
     "output_type": "stream",
     "text": [
      "aabbc\n",
      "aabcb\n",
      "aacbb\n",
      "ababc\n",
      "abacb\n",
      "abbac\n",
      "abbca\n",
      "abcab\n",
      "abcba\n",
      "acabb\n"
     ]
    }
   ],
   "source": [
    "# Function to print first n unique\n",
    "# permutation using itertools\n",
    "def nPermute(string, n):\n",
    "\n",
    "    # Convert the string to list and sort\n",
    "    # the characters in alphabetical order\n",
    "    strList = sorted(list(string))\n",
    "\n",
    "    # Create an iterator\n",
    "    permList = permutations(strList)\n",
    "\n",
    "    # Keep iterating until we\n",
    "    # reach nth unique permutation\n",
    "    i = 0\n",
    "    permSet = set()\n",
    "    tempStr = \"\"\n",
    "\n",
    "    while i < n:\n",
    "        tempStr = \"\".join(permList.__next__())\n",
    "\n",
    "        # Insert the string in the set\n",
    "        # if it is not already included\n",
    "        # and print it out.\n",
    "        if tempStr not in permSet:\n",
    "            permSet.add(tempStr)\n",
    "            print(tempStr)\n",
    "            i += 1\n",
    "\n",
    "\n",
    "string = \"ababc\"\n",
    "n = 10\n",
    "nPermute(string, n)"
   ]
  },
  {
   "cell_type": "code",
   "execution_count": 6,
   "metadata": {},
   "outputs": [
    {
     "name": "stdout",
     "output_type": "stream",
     "text": [
      "[('1', '2', '3'), ('1', '3', '2'), ('2', '1', '3'), ('2', '3', '1'), ('3', '1', '2'), ('3', '2', '1')]\n",
      "[('1', '2'), ('1', '3'), ('2', '1'), ('2', '3'), ('3', '1'), ('3', '2')]\n",
      "[('a', 'b', 'c'), ('a', 'c', 'b'), ('b', 'a', 'c'), ('b', 'c', 'a'), ('c', 'a', 'b'), ('c', 'b', 'a')]\n"
     ]
    }
   ],
   "source": [
    "print(list(permutations([\"1\", \"2\", \"3\"])))\n",
    "print(list(permutations([\"1\", \"2\", \"3\"], 2)))\n",
    "print(list(permutations(\"abc\", 3)))"
   ]
  },
  {
   "cell_type": "code",
   "execution_count": 8,
   "metadata": {},
   "outputs": [
    {
     "name": "stdout",
     "output_type": "stream",
     "text": [
      "[(2, 1, 3), (2, 3, 1)]\n"
     ]
    }
   ],
   "source": [
    "elements = [1, 2, 3]\n",
    "\n",
    "fixed_element = 2\n",
    "\n",
    "permutations = [p for p in permutations(elements) if p.index(fixed_element) == 0]\n",
    "\n",
    "print(permutations)"
   ]
  }
 ],
 "metadata": {
  "kernelspec": {
   "display_name": "qfree_3_12_4",
   "language": "python",
   "name": "python3"
  },
  "language_info": {
   "codemirror_mode": {
    "name": "ipython",
    "version": 3
   },
   "file_extension": ".py",
   "mimetype": "text/x-python",
   "name": "python",
   "nbconvert_exporter": "python",
   "pygments_lexer": "ipython3",
   "version": "3.12.4"
  }
 },
 "nbformat": 4,
 "nbformat_minor": 2
}
