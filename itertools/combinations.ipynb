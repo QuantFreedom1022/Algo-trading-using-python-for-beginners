{
 "cells": [
  {
   "cell_type": "code",
   "execution_count": null,
   "metadata": {},
   "outputs": [],
   "source": [
    "from itertools import combinations"
   ]
  },
  {
   "cell_type": "code",
   "execution_count": null,
   "metadata": {},
   "outputs": [],
   "source": [
    "def rSubset(arr, r):\n",
    "    return list(combinations(arr, r))\n",
    "\n",
    "arr = [1, 2, 3, 4]\n",
    "r = 2\n",
    "print(rSubset(arr, r))"
   ]
  },
  {
   "cell_type": "code",
   "execution_count": null,
   "metadata": {},
   "outputs": [],
   "source": [
    "def nPermute(string, n):\n",
    "\n",
    "    # Convert the string to list and sort\n",
    "    # the characters in alphabetical order\n",
    "    strList = sorted(list(string))\n",
    "\n",
    "    # Create an iterator\n",
    "    permList = combinations(strList, 5)\n",
    "\n",
    "    # Keep iterating until we\n",
    "    # reach nth unique permutation\n",
    "    i = 0\n",
    "    permSet = set()\n",
    "    tempStr = \"\"\n",
    "\n",
    "    while i < n:\n",
    "        tempStr = \"\".join(permList.__next__())\n",
    "\n",
    "        if tempStr not in permSet:\n",
    "            permSet.add(tempStr)\n",
    "            print(tempStr)\n",
    "            i += 1\n",
    "\n",
    "\n",
    "string = \"qwerasdfzxcv\"\n",
    "n = 10\n",
    "nPermute(string, n)"
   ]
  },
  {
   "cell_type": "code",
   "execution_count": null,
   "metadata": {},
   "outputs": [],
   "source": [
    "letters = \"GeEKS\"\n",
    "\n",
    "# size of combination is set to 3\n",
    "a = combinations(letters, 3)\n",
    "y = [\" \".join(i) for i in a]\n",
    "\n",
    "print(y)"
   ]
  },
  {
   "cell_type": "code",
   "execution_count": null,
   "metadata": {},
   "outputs": [],
   "source": [
    "print(\"All the combination of list in sorted order(without replacement) is:\")\n",
    "print(list(combinations([\"A\", 2], 2)))\n",
    "print()\n",
    "\n",
    "print(\"All the combination of string in sorted order(without replacement) is:\")\n",
    "print(list(combinations(\"AB\", 2)))\n",
    "print()\n",
    "\n",
    "print(\"All the combination of list in sorted order(without replacement) is:\")\n",
    "print(list(combinations(range(2), 1)))"
   ]
  },
  {
   "cell_type": "code",
   "execution_count": null,
   "metadata": {},
   "outputs": [],
   "source": [
    "l = [1, 2, 3, 4, 5]\n",
    "\n",
    "for i in combinations(l, 2):\n",
    "    print(list(i), [j for j in l if j not in i])"
   ]
  },
  {
   "cell_type": "code",
   "execution_count": null,
   "metadata": {},
   "outputs": [],
   "source": [
    "bills = [20, 20, 20, 10, 10, 10, 10, 10, 5, 5, 1, 1, 1, 1, 1]\n",
    "makes_100 = []\n",
    "for n in range(1, len(bills) + 1):\n",
    "    for combination in combinations(bills, n):\n",
    "        if sum(combination) == 100:\n",
    "            makes_100.append(combination)\n",
    "set(makes_100) # set removes duplicates"
   ]
  }
 ],
 "metadata": {
  "kernelspec": {
   "display_name": "qfree_3_12_4",
   "language": "python",
   "name": "python3"
  },
  "language_info": {
   "codemirror_mode": {
    "name": "ipython",
    "version": 3
   },
   "file_extension": ".py",
   "mimetype": "text/x-python",
   "name": "python",
   "nbconvert_exporter": "python",
   "pygments_lexer": "ipython3",
   "version": "3.12.4"
  }
 },
 "nbformat": 4,
 "nbformat_minor": 2
}
