{
 "cells": [
  {
   "cell_type": "code",
   "execution_count": 1,
   "metadata": {},
   "outputs": [],
   "source": [
    "from itertools import zip_longest"
   ]
  },
  {
   "cell_type": "code",
   "execution_count": null,
   "metadata": {},
   "outputs": [],
   "source": [
    "x = [1, 2, 3, 4, 5, 6, 7]\n",
    "y = [8, 9, 10]\n",
    "z = list(zip_longest(x, y))\n",
    "print(z)"
   ]
  },
  {
   "cell_type": "code",
   "execution_count": 2,
   "metadata": {},
   "outputs": [
    {
     "name": "stdout",
     "output_type": "stream",
     "text": [
      "Aggregated List: [(1, 8, 12), (2, 9, 13), (3, 10, 14), (4, 'a', 'a'), (5, 'a', 'a'), (6, 'a', 'a'), (7, 'a', 'a')]\n"
     ]
    }
   ],
   "source": [
    "x =[1, 2, 3, 4, 5, 6, 7]\n",
    "y =[8, 9, 10]\n",
    "a = [12,13,14]\n",
    "z = list(zip_longest(x, y, a, fillvalue = 'a'))\n",
    "print(\"Aggregated List:\",z)"
   ]
  },
  {
   "cell_type": "code",
   "execution_count": 5,
   "metadata": {},
   "outputs": [
    {
     "name": "stdout",
     "output_type": "stream",
     "text": [
      "The combined values of iterables is  : \n",
      "('G', 'e') ('e', 'k') ('s', 'f') ('o', 'r') ('G', 'e') ('e', 'k') ('s', '_')\n"
     ]
    }
   ],
   "source": [
    "print (\"The combined values of iterables is  : \")   \n",
    "print (*(zip_longest('GesoGes', 'ekfrek', fillvalue ='_' ))) "
   ]
  },
  {
   "cell_type": "code",
   "execution_count": 8,
   "metadata": {},
   "outputs": [
    {
     "data": {
      "text/plain": [
       "[{'name': 'John', 'age': '', 'city': ''},\n",
       " {'name': '25', 'age': '', 'city': ''},\n",
       " {'name': 'New York', 'age': 'Chicago', 'city': ''}]"
      ]
     },
     "execution_count": 8,
     "metadata": {},
     "output_type": "execute_result"
    }
   ],
   "source": [
    "keys = ['name', 'age', 'city']\n",
    "data = [['John'], ['25'], ['New York', 'Chicago']]\n",
    "\n",
    "records = [dict(zip_longest(keys, parts, fillvalue=''))  \n",
    "   for parts in data]\n",
    "\n",
    "records"
   ]
  }
 ],
 "metadata": {
  "kernelspec": {
   "display_name": "qfree_3_12_4",
   "language": "python",
   "name": "python3"
  },
  "language_info": {
   "codemirror_mode": {
    "name": "ipython",
    "version": 3
   },
   "file_extension": ".py",
   "mimetype": "text/x-python",
   "name": "python",
   "nbconvert_exporter": "python",
   "pygments_lexer": "ipython3",
   "version": "3.12.4"
  }
 },
 "nbformat": 4,
 "nbformat_minor": 2
}
