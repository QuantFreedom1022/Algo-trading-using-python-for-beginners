{
 "cells": [
  {
   "cell_type": "code",
   "execution_count": 22,
   "metadata": {},
   "outputs": [
    {
     "name": "stdout",
     "output_type": "stream",
     "text": [
      "Amazing\n",
      "10\n",
      "        10\n",
      "   Amazing\n",
      "#############Amazing\n",
      "      Amazing       \n",
      "......Amazing.......\n",
      "Amazing#############\n",
      ".........10.........\n"
     ]
    }
   ],
   "source": [
    "test = \"Amazing\"\n",
    "number = 10\n",
    "print(f\"{test}\")\n",
    "print(f\"{number}\")\n",
    "print(f\"{number:10}\")\n",
    "print(f\"{test:>10}\")\n",
    "print(f\"{test:#>20}\")\n",
    "print(f\"{test:^20}\")\n",
    "print(f\"{test:.^20}\")\n",
    "print(f\"{test:#<20}\")\n",
    "print(f\"{number:.^20}\")"
   ]
  }
 ],
 "metadata": {
  "kernelspec": {
   "display_name": "qfree_3_12_4",
   "language": "python",
   "name": "python3"
  },
  "language_info": {
   "codemirror_mode": {
    "name": "ipython",
    "version": 3
   },
   "file_extension": ".py",
   "mimetype": "text/x-python",
   "name": "python",
   "nbconvert_exporter": "python",
   "pygments_lexer": "ipython3",
   "version": "3.12.4"
  }
 },
 "nbformat": 4,
 "nbformat_minor": 2
}
