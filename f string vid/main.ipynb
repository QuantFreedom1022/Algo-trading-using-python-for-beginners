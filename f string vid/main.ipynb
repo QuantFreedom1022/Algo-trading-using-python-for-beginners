{
 "cells": [
  {
   "cell_type": "code",
   "execution_count": 1,
   "metadata": {},
   "outputs": [
    {
     "name": "stdout",
     "output_type": "stream",
     "text": [
      "🐊\n",
      "🐼\n",
      "🐓\n"
     ]
    }
   ],
   "source": [
    "viewer = \"🐊\"\n",
    "owner = \"🐼\"\n",
    "editor = \"🐓\"\n",
    "\n",
    "print(viewer)\n",
    "print(owner)\n",
    "print(editor)"
   ]
  },
  {
   "cell_type": "code",
   "execution_count": 2,
   "metadata": {},
   "outputs": [
    {
     "name": "stdout",
     "output_type": "stream",
     "text": [
      "1000000000\n",
      "1000000000.0\n"
     ]
    }
   ],
   "source": [
    "print(1_000_000_000)\n",
    "print(1e9)"
   ]
  },
  {
   "cell_type": "code",
   "execution_count": 3,
   "metadata": {},
   "outputs": [
    {
     "name": "stdout",
     "output_type": "stream",
     "text": [
      "1_000_000.0\n",
      "1,000,000.0\n",
      "1000000.0\n"
     ]
    }
   ],
   "source": [
    "number = 1e6\n",
    "print(f\"{number:_}\")\n",
    "print(f\"{number:,}\")\n",
    "print(number)"
   ]
  },
  {
   "cell_type": "code",
   "execution_count": 7,
   "metadata": {},
   "outputs": [
    {
     "name": "stdout",
     "output_type": "stream",
     "text": [
      "x = 10, y = 20\n",
      "x = 10, y = 20\n",
      "x * y = 200\n"
     ]
    }
   ],
   "source": [
    "x = 10\n",
    "y = 20\n",
    "\n",
    "print(f\"x = {x}, y = {y}\")\n",
    "print(f\"{x = }, {y = }\") \n",
    "\n",
    "print(f\"{x * y = }\")"
   ]
  },
  {
   "cell_type": "code",
   "execution_count": 10,
   "metadata": {},
   "outputs": [
    {
     "name": "stdout",
     "output_type": "stream",
     "text": [
      "first_var = Quantfreedom, second_var = is the best\n",
      "first_var = 'Quantfreedom', second_var = 'is the best'\n",
      "first_var + \" \" + second_var = 'Quantfreedom is the best'\n"
     ]
    }
   ],
   "source": [
    "first_var = \"Quantfreedom\"\n",
    "second_var = \"is the best\"\n",
    "\n",
    "print(f\"first_var = {first_var}, second_var = {second_var}\") \n",
    "print(f\"{first_var = }, {second_var = }\") \n",
    "\n",
    "print(f\"{first_var + \" \" + second_var = }\")"
   ]
  },
  {
   "cell_type": "code",
   "execution_count": 46,
   "metadata": {},
   "outputs": [
    {
     "name": "stdout",
     "output_type": "stream",
     "text": [
      "number: 4320.00\n",
      "hex: 0x10e0\n",
      "binary: 1000011100000\n",
      "octal: 10340\n",
      "scientific: 4.32e+03\n",
      "Number: 000004320\n"
     ]
    }
   ],
   "source": [
    "number = 4320\n",
    "\n",
    "# decimal places\n",
    "print(f\"number: {number:.2f}\")\n",
    "\n",
    "# hex conversion\n",
    "print(f\"hex: {number:#0x}\")\n",
    "\n",
    "# binary conversion\n",
    "print(f\"binary: {number:b}\")\n",
    "\n",
    "# octal conversion\n",
    "print(f\"octal: {number:o}\")\n",
    "\n",
    "# scientific notation\n",
    "print(f\"scientific: {number:.2e}\")\n",
    "\n",
    "# total number of characters\n",
    "print(f\"Number: {number:09}\") "
   ]
  },
  {
   "cell_type": "code",
   "execution_count": 53,
   "metadata": {},
   "outputs": [
    {
     "name": "stdout",
     "output_type": "stream",
     "text": [
      "apple_marketcap = 26,260,000,000,000.0\n",
      "float_number = 6516649.39\n",
      "float_number = 6,516,649.394\n",
      "float_number = 6_516_649.39439\n",
      "percentage = 1039.44%\n"
     ]
    }
   ],
   "source": [
    "apple_marketcap = 2.626 * 10e12\n",
    "\n",
    "print(f\"{apple_marketcap = :,}\") # comma separator\n",
    "\n",
    "float_number = 6516649.394394\n",
    "print(f\"{float_number = :.2f}\") # decimal places\n",
    "print(f\"{float_number = :,.3f}\")\n",
    "print(f\"{float_number = :_.5f}\")\n",
    "\n",
    "percentage = 10.394394\n",
    "print(f\"{percentage = :.2%}\") # percentage"
   ]
  }
 ],
 "metadata": {
  "kernelspec": {
   "display_name": "qfree_3_12_4",
   "language": "python",
   "name": "python3"
  },
  "language_info": {
   "codemirror_mode": {
    "name": "ipython",
    "version": 3
   },
   "file_extension": ".py",
   "mimetype": "text/x-python",
   "name": "python",
   "nbconvert_exporter": "python",
   "pygments_lexer": "ipython3",
   "version": "3.12.4"
  }
 },
 "nbformat": 4,
 "nbformat_minor": 2
}
