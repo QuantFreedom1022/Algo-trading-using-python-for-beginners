{
 "cells": [
  {
   "cell_type": "code",
   "execution_count": null,
   "metadata": {},
   "outputs": [],
   "source": [
    "viewer = \"🐊\"\n",
    "owner = \"🐼\"\n",
    "editor = \"🐓\"\n",
    "\n",
    "print(viewer)\n",
    "print(owner)\n",
    "print(editor)"
   ]
  },
  {
   "cell_type": "code",
   "execution_count": null,
   "metadata": {},
   "outputs": [],
   "source": [
    "print(1_000_000_000)\n",
    "print(1e9)"
   ]
  },
  {
   "cell_type": "code",
   "execution_count": null,
   "metadata": {},
   "outputs": [],
   "source": [
    "number = 1e6\n",
    "int(number)\n",
    "print(f\"{number:_}\")\n",
    "print(f\"{number:,}\")"
   ]
  },
  {
   "cell_type": "code",
   "execution_count": null,
   "metadata": {},
   "outputs": [],
   "source": [
    "x = 10\n",
    "y = 20\n",
    "\n",
    "print(f\"x = {x}, y = {y}\") \n",
    "print(f\"{x = }, {y = }\") \n",
    "\n",
    "# math operations\n",
    "print(f\"{x * y = }\")"
   ]
  },
  {
   "cell_type": "code",
   "execution_count": null,
   "metadata": {},
   "outputs": [],
   "source": [
    "first_var = \"Quantfreedom\"\n",
    "second_var = \"is the best\"\n",
    "\n",
    "print(f\"first_var = {first_var}, second_var = {second_var}\") \n",
    "print(f\"{first_var = }, {second_var = }\") \n",
    "\n",
    "# math operations\n",
    "print(f\"{first_var + \" \" + second_var = }\")"
   ]
  },
  {
   "cell_type": "code",
   "execution_count": null,
   "metadata": {},
   "outputs": [],
   "source": [
    "number = 420\n",
    "\n",
    "# decimal places\n",
    "print(f\"number: {number:.2f}\")\n",
    "\n",
    "# hex conversion\n",
    "print(f\"hex: {number:#0x}\")\n",
    "\n",
    "# binary conversion\n",
    "print(f\"binary: {number:b}\")\n",
    "\n",
    "# octal conversion\n",
    "print(f\"octal: {number:o}\")\n",
    "\n",
    "# scientific notation\n",
    "print(f\"scientific: {number:e}\") \n",
    "\n",
    "# total number of characters\n",
    "print(f\"Number: {number:09}\") "
   ]
  },
  {
   "cell_type": "code",
   "execution_count": null,
   "metadata": {},
   "outputs": [],
   "source": [
    "apple_marketcap = 2.626 * 10e12\n",
    "\n",
    "print(f\"{apple_marketcap = :,}\") # comma separator\n",
    "\n",
    "float_number = 6516649.394394\n",
    "print(f\"{float_number = :.2f}\") # decimal places\n",
    "print(f\"{float_number = :,.3f}\") # percentage\n",
    "print(f\"{float_number = :_.5f}\") # percentage\n",
    "\n",
    "percentage = 10.394394\n",
    "print(f\"{percentage = :.2%}\") # percentage\n"
   ]
  },
  {
   "cell_type": "code",
   "execution_count": null,
   "metadata": {},
   "outputs": [],
   "source": [
    "import datetime\n",
    "\n",
    "today = datetime.datetime.now(datetime.UTC)\n",
    "print(f\"datetime : {today}\\n\")\n",
    "\n",
    "print(f\"date time: {today:%m/%d/%Y %H:%M:%S}\")\n",
    "print(f\"date: {today:%m/%d/%Y}\")\n",
    "print(f\"time: {today:%H:%M:%S.%f}\") \n",
    "print(f\"time: {today:%H:%M:%S %p}\") \n",
    "print(f\"time: {today:%H:%M}\")"
   ]
  },
  {
   "cell_type": "code",
   "execution_count": null,
   "metadata": {},
   "outputs": [],
   "source": [
    "# Locale’s appropriate date and time representation\n",
    "print(f\"locale appropriate: {today:%c}\")\n",
    "\n",
    "# weekday\n",
    "print(f\"weekday: {today:%A}\")\n",
    "\n",
    "# day of the year\n",
    "print(f\"day of year: {today:%j}\")\n",
    "\n",
    "# how far are we into the year?\n",
    "day_of_year = f\"{today:%j}\"\n",
    "print(f\"progress % year: {int(day_of_year)/365 * 100:.2f}%\")"
   ]
  },
  {
   "cell_type": "code",
   "execution_count": null,
   "metadata": {},
   "outputs": [],
   "source": [
    "from dataclasses import dataclass\n",
    "\n",
    "@dataclass\n",
    "class Person:\n",
    "    name : str\n",
    "    age : int\n",
    "\n",
    "    def __str__(self) -> str:\n",
    "        return f\"{self.name} is {self.age} years old\"\n",
    "\n",
    "Elon = Person(\"Elon Musk\", 51)\n",
    "print(f\"{Elon}\") # str\n",
    "print(f\"{Elon!r}\") # repr"
   ]
  },
  {
   "cell_type": "code",
   "execution_count": 22,
   "metadata": {},
   "outputs": [
    {
     "name": "stdout",
     "output_type": "stream",
     "text": [
      "number is    4\n",
      "the number is 1\n",
      "the number is  2\n",
      "the number is   3\n",
      "the number is    4\n",
      "           left text\n",
      "    center text!    \n",
      "right text          \n",
      "left text               center text!              right text\n"
     ]
    }
   ],
   "source": [
    "number = 4\n",
    "print(f\"number is {number:4}\") # width of 10\n",
    "\n",
    "# numbers\n",
    "for number in range(1, 5):\n",
    "    print(f\"the number is {number:{number}}\")\n",
    "\n",
    "left = \"left text\"\n",
    "center = \"center text!\"\n",
    "right = \"right text\"\n",
    "\n",
    "print(f\"{left:>20}\") # left align\n",
    "print(f\"{center:^20}\") # center align\n",
    "print(f\"{right:<20}\") # right align\n",
    "\n",
    "print(f\"{left : <20}{center : ^20}{right : >20}\")"
   ]
  },
  {
   "cell_type": "code",
   "execution_count": 25,
   "metadata": {},
   "outputs": [
    {
     "name": "stdout",
     "output_type": "stream",
     "text": [
      "###########left text\n",
      "____center text!____\n",
      "right text**********\n"
     ]
    }
   ],
   "source": [
    "print(f\"{left:#>20}\") # left align\n",
    "print(f\"{center:_^20}\") # center align\n",
    "print(f\"{right:*<20}\") # right align"
   ]
  },
  {
   "cell_type": "code",
   "execution_count": null,
   "metadata": {},
   "outputs": [],
   "source": [
    "company_name = \"Tesla\"\n",
    "employee_count = 100000\n",
    "mission = \"To accelerate the world's transition to sustainable energy\"\n",
    "\n",
    "print(f\"\"\"\n",
    "Company: {company_name}\n",
    "# of employees: {employee_count:,}\n",
    "Mission: {mission}\n",
    "\"\"\")"
   ]
  }
 ],
 "metadata": {
  "kernelspec": {
   "display_name": "qfree_3_12_4",
   "language": "python",
   "name": "python3"
  },
  "language_info": {
   "codemirror_mode": {
    "name": "ipython",
    "version": 3
   },
   "file_extension": ".py",
   "mimetype": "text/x-python",
   "name": "python",
   "nbconvert_exporter": "python",
   "pygments_lexer": "ipython3",
   "version": "3.12.4"
  }
 },
 "nbformat": 4,
 "nbformat_minor": 2
}
