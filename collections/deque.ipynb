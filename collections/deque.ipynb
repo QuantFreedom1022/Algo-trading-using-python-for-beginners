{
 "cells": [
  {
   "cell_type": "code",
   "execution_count": null,
   "metadata": {},
   "outputs": [],
   "source": [
    "# https://docs.python.org/3/library/collections.html#deque-objects\n",
    "# https://www.geeksforgeeks.org/deque-in-python/\n",
    "from collections import deque"
   ]
  },
  {
   "cell_type": "code",
   "execution_count": 10,
   "metadata": {},
   "outputs": [
    {
     "data": {
      "text/plain": [
       "deque(['name', 'age', 'DOB'])"
      ]
     },
     "execution_count": 10,
     "metadata": {},
     "output_type": "execute_result"
    }
   ],
   "source": [
    "queue = deque([\"name\", \"age\", \"DOB\"])\n",
    "\n",
    "queue"
   ]
  },
  {
   "cell_type": "code",
   "execution_count": 11,
   "metadata": {},
   "outputs": [
    {
     "name": "stdout",
     "output_type": "stream",
     "text": [
      "deque:  deque([1, 2, 3])\n"
     ]
    }
   ],
   "source": [
    "de = deque([1, 2, 3])\n",
    "print(\"deque: \", de)\n"
   ]
  },
  {
   "cell_type": "code",
   "execution_count": 14,
   "metadata": {},
   "outputs": [
    {
     "name": "stdout",
     "output_type": "stream",
     "text": [
      "\n",
      "The deque after appending at right is : \n",
      "deque([6, 1, 2, 3, 4, 4])\n"
     ]
    }
   ],
   "source": [
    "de.append(4)\n",
    "print(\"\\nThe deque after appending at right is : \")\n",
    "print(de)\n",
    "\n"
   ]
  },
  {
   "cell_type": "code",
   "execution_count": 15,
   "metadata": {},
   "outputs": [
    {
     "name": "stdout",
     "output_type": "stream",
     "text": [
      "\n",
      "The deque after appending at left is : \n",
      "deque([6, 6, 1, 2, 3, 4, 4])\n"
     ]
    }
   ],
   "source": [
    "de.appendleft(6)\n",
    "print(\"\\nThe deque after appending at left is : \")\n",
    "print(de)"
   ]
  },
  {
   "cell_type": "code",
   "execution_count": 16,
   "metadata": {},
   "outputs": [
    {
     "name": "stdout",
     "output_type": "stream",
     "text": [
      "deque:  deque([6, 1, 2, 3, 4])\n"
     ]
    }
   ],
   "source": [
    "de = deque([6, 1, 2, 3, 4])\n",
    "print(\"deque: \", de)\n"
   ]
  },
  {
   "cell_type": "code",
   "execution_count": 17,
   "metadata": {},
   "outputs": [
    {
     "name": "stdout",
     "output_type": "stream",
     "text": [
      "\n",
      "The deque after deleting from right is : \n",
      "deque([6, 1, 2, 3])\n"
     ]
    }
   ],
   "source": [
    "de.pop()\n",
    "print(\"\\nThe deque after deleting from right is : \")\n",
    "print(de)"
   ]
  },
  {
   "cell_type": "code",
   "execution_count": 18,
   "metadata": {},
   "outputs": [
    {
     "name": "stdout",
     "output_type": "stream",
     "text": [
      "\n",
      "The deque after deleting from left is : \n",
      "deque([1, 2, 3])\n"
     ]
    }
   ],
   "source": [
    "de.popleft()\n",
    "print(\"\\nThe deque after deleting from left is : \")\n",
    "print(de)"
   ]
  },
  {
   "cell_type": "code",
   "execution_count": 19,
   "metadata": {},
   "outputs": [
    {
     "name": "stdout",
     "output_type": "stream",
     "text": [
      "The number 4 first occurs at a position : \n",
      "4\n"
     ]
    }
   ],
   "source": [
    "de = deque([1, 2, 3, 3, 4, 2, 4])\n",
    "\n",
    "print(\"The number 4 first occurs at a position : \")\n",
    "print(de.index(4, 2, 5))\n"
   ]
  },
  {
   "cell_type": "code",
   "execution_count": 20,
   "metadata": {},
   "outputs": [
    {
     "name": "stdout",
     "output_type": "stream",
     "text": [
      "The deque after inserting 3 at 5th position is : \n",
      "deque([1, 2, 3, 3, 3, 4, 2, 4])\n"
     ]
    }
   ],
   "source": [
    "de.insert(4, 3)\n",
    "print(\"The deque after inserting 3 at 5th position is : \")\n",
    "print(de)\n"
   ]
  },
  {
   "cell_type": "code",
   "execution_count": 24,
   "metadata": {},
   "outputs": [
    {
     "name": "stdout",
     "output_type": "stream",
     "text": [
      "The count of 3 in deque is : \n",
      "3\n"
     ]
    }
   ],
   "source": [
    "print(\"The count of 3 in deque is : \")\n",
    "print(de.count(3))\n"
   ]
  },
  {
   "cell_type": "code",
   "execution_count": 25,
   "metadata": {},
   "outputs": [
    {
     "name": "stdout",
     "output_type": "stream",
     "text": [
      "The deque after deleting first occurrence of 3 is : \n",
      "deque([1, 2, 3, 3, 4, 2, 4])\n"
     ]
    }
   ],
   "source": [
    "de.remove(3)\n",
    "print(\"The deque after deleting first occurrence of 3 is : \")\n",
    "print(de)"
   ]
  },
  {
   "cell_type": "code",
   "execution_count": 26,
   "metadata": {},
   "outputs": [
    {
     "name": "stdout",
     "output_type": "stream",
     "text": [
      "Current Deque:  deque([1, 2, 3, 4, 5, 6])\n",
      "Size of Deque: 6\n",
      "\n",
      "The deque after deleting from right is: deque([1, 2, 3, 4, 5])\n",
      "Size of Deque: 5\n"
     ]
    }
   ],
   "source": [
    "de = deque([1, 2, 3, 4, 5, 6])\n",
    "print(\"Current Deque: \", de)\n",
    "print(f\"Size of Deque: {len(de)}\")\n",
    "\n",
    "de.pop()\n",
    "print(\"\\nThe deque after deleting from right is: \", end=\"\")\n",
    "print(de)\n",
    "\n",
    "print(f\"Size of Deque: {len(de)}\")"
   ]
  },
  {
   "cell_type": "code",
   "execution_count": 31,
   "metadata": {},
   "outputs": [
    {
     "name": "stdout",
     "output_type": "stream",
     "text": [
      "Current Deque:  deque([1, 2, 3, 4, 5, 6])\n",
      "Front element of the deque: 1\n",
      "Back element of the deque: 6\n"
     ]
    }
   ],
   "source": [
    "de = deque([1, 2, 3, 4, 5, 6])\n",
    "print(\"Current Deque: \", de)\n",
    "print(\"Front element of the deque:\", de[0])\n",
    "print(\"Back element of the deque:\", de[-1])"
   ]
  },
  {
   "cell_type": "code",
   "execution_count": 35,
   "metadata": {},
   "outputs": [
    {
     "name": "stdout",
     "output_type": "stream",
     "text": [
      "The deque after extending deque at end is : \n",
      "deque([1, 2, 3, 4, 5, 6])\n",
      "The deque after extending deque at beginning is : \n",
      "deque([9, 8, 7, 1, 2, 3, 4, 5, 6])\n",
      "The deque after rotating deque is : \n",
      "deque([1, 2, 3, 4, 5, 6, 9, 8, 7])\n",
      "The deque after reversing deque is : \n",
      "deque([7, 8, 9, 6, 5, 4, 3, 2, 1])\n"
     ]
    }
   ],
   "source": [
    "de = deque([1, 2, 3])\n",
    "de.extend([4, 5, 6])\n",
    "print(\"The deque after extending deque at end is : \")\n",
    "print(de)\n",
    "\n",
    "de.extendleft([7, 8, 9])\n",
    "print(\"The deque after extending deque at beginning is : \")\n",
    "print(de)\n",
    "\n",
    "de.rotate(-3)\n",
    "print(\"The deque after rotating deque is : \")\n",
    "print(de)\n",
    "\n",
    "de.reverse()\n",
    "print(\"The deque after reversing deque is : \")\n",
    "print(de)"
   ]
  }
 ],
 "metadata": {
  "kernelspec": {
   "display_name": "qfree_3_12_4",
   "language": "python",
   "name": "python3"
  },
  "language_info": {
   "codemirror_mode": {
    "name": "ipython",
    "version": 3
   },
   "file_extension": ".py",
   "mimetype": "text/x-python",
   "name": "python",
   "nbconvert_exporter": "python",
   "pygments_lexer": "ipython3",
   "version": "3.12.4"
  }
 },
 "nbformat": 4,
 "nbformat_minor": 2
}
