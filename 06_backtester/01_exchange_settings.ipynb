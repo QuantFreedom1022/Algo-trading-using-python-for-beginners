{
 "cells": [
  {
   "cell_type": "code",
   "execution_count": 1,
   "metadata": {},
   "outputs": [],
   "source": [
    "from my_stuff import MufexKeys\n",
    "from quantfreedom.exchanges.mufex_exchange.mufex import Mufex\n",
    "from quantfreedom.enums import PositionModeType, LeverageModeType, ExchangeSettings\n",
    "from quantfreedom.utils import pretty_qf\n",
    "\n",
    "%load_ext autoreload\n",
    "%autoreload 2"
   ]
  },
  {
   "cell_type": "code",
   "execution_count": 3,
   "metadata": {},
   "outputs": [],
   "source": [
    "mufex_main = Mufex(\n",
    "    api_key=MufexKeys.api_key,\n",
    "    secret_key=MufexKeys.secret_key,\n",
    "    use_test_net=False,\n",
    ")"
   ]
  },
  {
   "cell_type": "code",
   "execution_count": 4,
   "metadata": {},
   "outputs": [],
   "source": [
    "mufex_main.set_exchange_settings(\n",
    "    symbol=\"BTCUSDT\",\n",
    "    position_mode=PositionModeType.HedgeMode,\n",
    "    leverage_mode=LeverageModeType.Isolated,\n",
    ")"
   ]
  },
  {
   "cell_type": "code",
   "execution_count": 6,
   "metadata": {},
   "outputs": [
    {
     "name": "stdout",
     "output_type": "stream",
     "text": [
      "ExchangeSettings(\n",
      "    asset_tick_step = 3,\n",
      "    leverage_mode = 1,\n",
      "    leverage_tick_step = 2,\n",
      "    limit_fee_pct = 0.0003,\n",
      "    market_fee_pct = 0.0006,\n",
      "    max_asset_size = 100.0,\n",
      "    max_leverage = 150.0,\n",
      "    min_asset_size = 0.001,\n",
      "    min_leverage = 1.0,\n",
      "    mmr_pct = 0.004,\n",
      "    position_mode = 3,\n",
      "    price_tick_step = 1,\n",
      ")\n"
     ]
    }
   ],
   "source": [
    "pretty_qf(\n",
    "    named_tuple=mufex_main.exchange_settings,\n",
    ")"
   ]
  },
  {
   "cell_type": "code",
   "execution_count": 8,
   "metadata": {},
   "outputs": [
    {
     "name": "stdout",
     "output_type": "stream",
     "text": [
      "ExchangeSettings(\n",
      "    asset_tick_step = 3,\n",
      "    leverage_mode = 1,\n",
      "    leverage_tick_step = 2,\n",
      "    limit_fee_pct = 0.0003,\n",
      "    market_fee_pct = 0.0006,\n",
      "    max_asset_size = 100.0,\n",
      "    max_leverage = 150.0,\n",
      "    min_asset_size = 0.001,\n",
      "    min_leverage = 1.0,\n",
      "    mmr_pct = 0.004,\n",
      "    position_mode = 3,\n",
      "    price_tick_step = 1,\n",
      ")\n"
     ]
    }
   ],
   "source": [
    "pretty_qf(\n",
    "    ExchangeSettings(\n",
    "        asset_tick_step=3,\n",
    "        leverage_mode=LeverageModeType.Isolated,\n",
    "        leverage_tick_step=2,\n",
    "        limit_fee_pct=0.0003,\n",
    "        market_fee_pct=0.0006,\n",
    "        max_asset_size=100.0,\n",
    "        max_leverage=150.0,\n",
    "        min_asset_size=0.001,\n",
    "        min_leverage=1.0,\n",
    "        mmr_pct=0.004,\n",
    "        position_mode=PositionModeType.HedgeMode,\n",
    "        price_tick_step=1,\n",
    "    )\n",
    ")"
   ]
  }
 ],
 "metadata": {
  "kernelspec": {
   "display_name": "qfree",
   "language": "python",
   "name": "python3"
  },
  "language_info": {
   "codemirror_mode": {
    "name": "ipython",
    "version": 3
   },
   "file_extension": ".py",
   "mimetype": "text/x-python",
   "name": "python",
   "nbconvert_exporter": "python",
   "pygments_lexer": "ipython3",
   "version": "3.10.10"
  }
 },
 "nbformat": 4,
 "nbformat_minor": 2
}
