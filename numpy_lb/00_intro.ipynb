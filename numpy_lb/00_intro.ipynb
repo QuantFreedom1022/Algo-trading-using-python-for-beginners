{
 "cells": [
  {
   "cell_type": "code",
   "execution_count": null,
   "metadata": {},
   "outputs": [],
   "source": [
    "import numpy as np\n",
    "from datetime import datetime\n",
    "from quantfreedom import dl_ex_candles\n",
    "from plotly.subplots import make_subplots\n",
    "from plotly.graph_objects import Scatter, Candlestick\n",
    "from quantfreedom.indicators.tv_indicators import rsi_tv\n",
    "\n",
    "%load_ext autoreload\n",
    "%autoreload 2"
   ]
  },
  {
   "cell_type": "code",
   "execution_count": null,
   "metadata": {},
   "outputs": [],
   "source": [
    "lb_1 = 2\n",
    "\n",
    "arr_1 = np.random.randint(10, 30, 10)\n",
    "print(arr_1)\n",
    "p_arr_1 = np.full(arr_1.shape, np.nan)\n",
    "\n",
    "p_arr_1[lb_1:] = arr_1[:-lb_1]\n",
    "\n",
    "p_arr_1"
   ]
  },
  {
   "cell_type": "code",
   "execution_count": null,
   "metadata": {},
   "outputs": [],
   "source": [
    "lb_2 = 2\n",
    "\n",
    "arr_2 = np.random.randint(10, 30, 10)\n",
    "print(arr_2)\n",
    "p_arr_2 = np.full((arr_2.size, lb_2), np.nan)\n",
    "g_arr_2 = arr_2[lb_2:].size\n",
    "\n",
    "p_arr_2[lb_2:, 0] = arr_2[:g_arr_2]\n",
    "p_arr_2[lb_2:, 1] = arr_2[1 : g_arr_2 + 1]\n",
    "p_arr_2"
   ]
  },
  {
   "cell_type": "code",
   "execution_count": null,
   "metadata": {},
   "outputs": [],
   "source": [
    "arr_2_2d = arr_2.reshape(arr_2.size, -1)\n",
    "print(arr_2_2d)\n",
    "arr_2_2d - p_arr_2"
   ]
  },
  {
   "cell_type": "code",
   "execution_count": null,
   "metadata": {},
   "outputs": [],
   "source": [
    "lb_3 = 7\n",
    "\n",
    "arr_3 = np.random.randint(10, 30, 10)\n",
    "print(arr_3)\n",
    "p_arr_3 = np.full((arr_3.size, lb_3), np.nan)\n",
    "g_arr_3 = arr_3[lb_3:].size\n",
    "\n",
    "\n",
    "for col in range(lb_3):\n",
    "    p_arr_3[lb_3:, col] = arr_3[col : g_arr_3 + col]\n",
    "\n",
    "p_arr_3"
   ]
  },
  {
   "cell_type": "code",
   "execution_count": null,
   "metadata": {},
   "outputs": [],
   "source": [
    "lb_4 = 3\n",
    "include = True\n",
    "num_cols = lb_4\n",
    "\n",
    "if include:\n",
    "    num_cols += 1\n",
    "\n",
    "arr_4 = np.random.randint(10, 30, 10).astype(np.float_)\n",
    "arr_4[:2] = np.nan\n",
    "print(arr_4)\n",
    "\n",
    "arr_4_size = arr_4.size\n",
    "\n",
    "a_arr_4 = np.where(np.isnan(arr_4))[0].size\n",
    "\n",
    "p_arr_4 = np.full((arr_4_size, num_cols), np.nan)\n",
    "g_arr_4 = arr_4[lb_4:].size\n",
    "\n",
    "s_pa = lb_4 + a_arr_4\n",
    "\n",
    "for col in range(num_cols):\n",
    "    p_arr_4[s_pa:, col] = arr_4[col + a_arr_4 : g_arr_4 + col]\n",
    "\n",
    "p_arr_4"
   ]
  },
  {
   "cell_type": "code",
   "execution_count": null,
   "metadata": {},
   "outputs": [],
   "source": [
    "lb_5 = 3\n",
    "lb_6 = 6\n",
    "lb_7 = 10\n",
    "\n",
    "arr_5 = np.random.randint(10, 30, 10).astype(np.float_)\n",
    "arr_5[:2] = np.nan\n",
    "arr_6 = np.random.randint(10, 30, 15)\n",
    "arr_7 = np.random.randint(10, 30, 25).astype(np.float_)\n",
    "arr_7[:5] = np.nan\n",
    "\n",
    "arr_5_size = arr_5.size\n",
    "a_arr_5 = np.where(np.isnan(arr_5))[0].size\n",
    "p_arr_5 = np.full((arr_5_size, lb_5 + 1), np.nan)\n",
    "g_arr_5 = arr_5[lb_5:].size\n",
    "s_pa_5 = lb_5 + a_arr_5\n",
    "\n",
    "arr_6_size = arr_6.size\n",
    "a_arr_6 = np.where(np.isnan(arr_6))[0].size\n",
    "p_arr_6 = np.full((arr_6_size, lb_6), np.nan)\n",
    "g_arr_6 = arr_6[lb_6:].size\n",
    "s_pa_6 = lb_6 + a_arr_6\n",
    "\n",
    "arr_7_size = arr_7.size\n",
    "a_arr_7 = np.where(np.isnan(arr_7))[0].size\n",
    "p_arr_7 = np.full((arr_7_size, lb_7), np.nan)\n",
    "g_arr_7 = arr_7[lb_7:].size\n",
    "s_pa_7 = lb_7 + a_arr_7\n",
    "\n",
    "col = 0\n",
    "\n",
    "while col < lb_5 + 1:\n",
    "    p_arr_5[s_pa_5:, col] = arr_5[col + a_arr_5 : g_arr_5 + col]\n",
    "    p_arr_6[s_pa_6:, col] = arr_6[col + a_arr_6 : g_arr_6 + col]\n",
    "    p_arr_7[s_pa_7:, col] = arr_7[col + a_arr_7 : g_arr_7 + col]\n",
    "    col += 1\n",
    "\n",
    "while col < lb_6:\n",
    "    p_arr_6[s_pa_6:, col] = arr_6[col + a_arr_6 : g_arr_6 + col]\n",
    "    p_arr_7[s_pa_7:, col] = arr_7[col + a_arr_7 : g_arr_7 + col]\n",
    "    col += 1\n",
    "    \n",
    "while col < lb_7:\n",
    "    p_arr_7[s_pa_7:, col] = arr_7[col + a_arr_7 : g_arr_7 + col]\n",
    "    col += 1\n",
    "\n",
    "print(arr_5)\n",
    "print(p_arr_5)\n",
    "print(arr_6)\n",
    "print(p_arr_6)\n",
    "print(arr_7)\n",
    "print(p_arr_7)"
   ]
  },
  {
   "cell_type": "code",
   "execution_count": null,
   "metadata": {},
   "outputs": [],
   "source": [
    "def np_lb_one(\n",
    "    arr: np.ndarray,\n",
    "    include: bool,\n",
    "    lb: int,\n",
    ") -> np.ndarray:\n",
    "    num_cols = lb\n",
    "\n",
    "    if include:\n",
    "        num_cols += 1\n",
    "\n",
    "    arr_size = arr.size\n",
    "    p_arr = np.full((arr_size, num_cols), np.nan)  # previous array\n",
    "    g_arr = arr_size - lb  # grab end of arr index\n",
    "    a_arr = np.where(np.isnan(arr))[0].size  # add total number of nans to p arr start and arr start in loop\n",
    "\n",
    "    s_pa = lb + a_arr  # start for previous array\n",
    "\n",
    "    for col in range(num_cols):\n",
    "        p_arr[s_pa:, col] = arr[col + a_arr : g_arr + col]\n",
    "\n",
    "    return p_arr"
   ]
  },
  {
   "cell_type": "code",
   "execution_count": null,
   "metadata": {},
   "outputs": [],
   "source": [
    "test_arr = np.random.randint(10, 30, 10).astype(np.float_)\n",
    "test_arr[:2] = np.nan\n",
    "print(test_arr)\n",
    "np_lb_one(\n",
    "    arr=test_arr,\n",
    "    include=True,\n",
    "    lb=3,\n",
    ")"
   ]
  },
  {
   "cell_type": "code",
   "execution_count": null,
   "metadata": {},
   "outputs": [],
   "source": [
    "candles = dl_ex_candles(\n",
    "    exchange=\"mufex\",\n",
    "    symbol=\"BTCUSDT\",\n",
    "    timeframe=\"5m\",\n",
    "    since_datetime=datetime(2024, 1, 1),\n",
    ")"
   ]
  },
  {
   "cell_type": "code",
   "execution_count": null,
   "metadata": {},
   "outputs": [],
   "source": [
    "rsi = rsi_tv(\n",
    "    source=candles.candle_close_prices,\n",
    "    length=14,\n",
    ").round(2)"
   ]
  },
  {
   "cell_type": "code",
   "execution_count": null,
   "metadata": {},
   "outputs": [],
   "source": [
    "rsi_lb = np_lb_one(\n",
    "    arr=rsi,\n",
    "    include=False,\n",
    "    lb=4,\n",
    ")\n",
    "rsi_lb[12:25]"
   ]
  },
  {
   "cell_type": "code",
   "execution_count": null,
   "metadata": {},
   "outputs": [],
   "source": [
    "rsi[12:25]"
   ]
  },
  {
   "cell_type": "code",
   "execution_count": null,
   "metadata": {},
   "outputs": [],
   "source": [
    "rsi_lb_result = rsi_lb < 30\n",
    "rsi_lb_result"
   ]
  },
  {
   "cell_type": "code",
   "execution_count": null,
   "metadata": {},
   "outputs": [],
   "source": [
    "rsi_lb_result_any_0 = rsi_lb_result.any(axis=0)\n",
    "rsi_lb_result_any_0"
   ]
  },
  {
   "cell_type": "code",
   "execution_count": null,
   "metadata": {},
   "outputs": [],
   "source": [
    "rsi_lb_result_any_1 = rsi_lb_result.any(axis=1)\n",
    "rsi_lb_result_any_1"
   ]
  },
  {
   "cell_type": "code",
   "execution_count": null,
   "metadata": {},
   "outputs": [],
   "source": [
    "np.where(rsi_lb_result_any_1)"
   ]
  },
  {
   "cell_type": "code",
   "execution_count": null,
   "metadata": {},
   "outputs": [],
   "source": [
    "rsi_lb_result_any_1[203]"
   ]
  },
  {
   "cell_type": "code",
   "execution_count": null,
   "metadata": {},
   "outputs": [],
   "source": [
    "rsi_lb_result[203]"
   ]
  },
  {
   "cell_type": "code",
   "execution_count": null,
   "metadata": {},
   "outputs": [],
   "source": [
    "rsi_lb_result_all_1 = rsi_lb_result.all(axis=1)\n",
    "rsi_lb_result_all_1"
   ]
  },
  {
   "cell_type": "code",
   "execution_count": null,
   "metadata": {},
   "outputs": [],
   "source": [
    "np.where(rsi_lb_result_all_1)"
   ]
  },
  {
   "cell_type": "code",
   "execution_count": null,
   "metadata": {},
   "outputs": [],
   "source": [
    "print(rsi_lb_result[213])\n",
    "print(rsi_lb_result_any_1[213])\n",
    "print(rsi_lb_result_all_1[213])"
   ]
  },
  {
   "cell_type": "code",
   "execution_count": null,
   "metadata": {},
   "outputs": [],
   "source": [
    "candles = dl_ex_candles(\n",
    "    exchange=\"mufex\",\n",
    "    symbol=\"BTCUSDT\",\n",
    "    timeframe=\"5m\",\n",
    "    since_datetime=datetime(2024, 5, 16),\n",
    "    candles_to_dl=500\n",
    ")\n",
    "rsi = rsi_tv(\n",
    "    source=candles.candle_close_prices,\n",
    "    length=14,\n",
    ").round(2)\n",
    "rsi_lb = np_lb_one(\n",
    "    arr=rsi,\n",
    "    include=True,\n",
    "    lb=5,\n",
    ")\n",
    "result = (rsi_lb < 30).all(axis=1)\n",
    "signal_indexes = np.where(result)[0]\n",
    "signal_indexes"
   ]
  },
  {
   "cell_type": "code",
   "execution_count": null,
   "metadata": {},
   "outputs": [],
   "source": [
    "fig = make_subplots(\n",
    "    cols=1,\n",
    "    rows=2,\n",
    "    shared_xaxes=True,\n",
    "    subplot_titles=[\"Candles\", \"RSI\"],\n",
    "    row_heights=[0.6, 0.4],\n",
    "    vertical_spacing=0.1,\n",
    ")\n",
    "\n",
    "datetimes = candles.candle_open_datetimes\n",
    "# Candlestick chart for pricing\n",
    "fig.append_trace(\n",
    "    Candlestick(\n",
    "        x=datetimes,\n",
    "        open=candles.candle_open_prices,\n",
    "        high=candles.candle_high_prices,\n",
    "        low=candles.candle_low_prices,\n",
    "        close=candles.candle_close_prices,\n",
    "        name=\"Candles\",\n",
    "    ),\n",
    "    col=1,\n",
    "    row=1,\n",
    ")\n",
    "fig.append_trace(\n",
    "    Scatter(\n",
    "        x=datetimes[signal_indexes],\n",
    "        y=candles.candle_close_prices[signal_indexes],\n",
    "        mode=\"markers\",\n",
    "        name=\"entries\",\n",
    "        marker=dict(\n",
    "            size=12,\n",
    "            symbol=\"circle\",\n",
    "            color=\"#00F6FF\",\n",
    "            line=dict(\n",
    "                width=1,\n",
    "                color=\"DarkSlateGrey\",\n",
    "            ),\n",
    "        ),\n",
    "    ),\n",
    "    row=1,\n",
    "    col=1,\n",
    ")\n",
    "fig.append_trace(\n",
    "    Scatter(\n",
    "        x=datetimes,\n",
    "        y=rsi,\n",
    "        name=\"RSI\",\n",
    "        line_color=\"yellow\",\n",
    "    ),\n",
    "    row=2,\n",
    "    col=1,\n",
    ")\n",
    "fig.append_trace(\n",
    "    Scatter(\n",
    "        x=datetimes[[0, -1]],\n",
    "        y=[30, 30],\n",
    "        name=\"Below\",\n",
    "        line_color=\"#FF6D00\",\n",
    "    ),\n",
    "    row=2,\n",
    "    col=1,\n",
    ")\n",
    "fig.append_trace(\n",
    "    Scatter(\n",
    "        x=datetimes[signal_indexes],\n",
    "        y=rsi[signal_indexes],\n",
    "        mode=\"markers\",\n",
    "        name=\"entries\",\n",
    "        marker=dict(\n",
    "            size=12,\n",
    "            symbol=\"circle\",\n",
    "            color=\"#00F6FF\",\n",
    "            line=dict(\n",
    "                width=1,\n",
    "                color=\"DarkSlateGrey\",\n",
    "            ),\n",
    "        ),\n",
    "    ),\n",
    "    row=2,\n",
    "    col=1,\n",
    ")\n",
    "# Update options and show plot\n",
    "fig.update_layout(height=800, xaxis_rangeslider_visible=False)\n",
    "fig.show()"
   ]
  }
 ],
 "metadata": {
  "kernelspec": {
   "display_name": "qfree",
   "language": "python",
   "name": "python3"
  },
  "language_info": {
   "codemirror_mode": {
    "name": "ipython",
    "version": 3
   },
   "file_extension": ".py",
   "mimetype": "text/x-python",
   "name": "python",
   "nbconvert_exporter": "python",
   "pygments_lexer": "ipython3",
   "version": "3.10.10"
  }
 },
 "nbformat": 4,
 "nbformat_minor": 2
}
