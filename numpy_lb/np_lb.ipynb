{
 "cells": [
  {
   "cell_type": "code",
   "execution_count": 50,
   "metadata": {},
   "outputs": [
    {
     "name": "stdout",
     "output_type": "stream",
     "text": [
      "The autoreload extension is already loaded. To reload it, use:\n",
      "  %reload_ext autoreload\n"
     ]
    }
   ],
   "source": [
    "import numpy as np\n",
    "from quantfreedom import dl_ex_candles\n",
    "from datetime import datetime\n",
    "from quantfreedom.indicators.tv_indicators import rsi_tv\n",
    "\n",
    "%load_ext autoreload\n",
    "%autoreload 2"
   ]
  },
  {
   "cell_type": "code",
   "execution_count": 51,
   "metadata": {},
   "outputs": [
    {
     "data": {
      "text/plain": [
       "array([nan, nan,  0.,  1.,  2.,  3.,  4.,  5.,  6.,  7.])"
      ]
     },
     "execution_count": 51,
     "metadata": {},
     "output_type": "execute_result"
    }
   ],
   "source": [
    "lb_1 = 2\n",
    "\n",
    "arr_1 = np.arange(10)\n",
    "p_arr_1 = np.full(arr_1.shape, np.nan)\n",
    "\n",
    "p_arr_1[lb_1:] = arr_1[:-lb_1]\n",
    "\n",
    "p_arr_1"
   ]
  },
  {
   "cell_type": "code",
   "execution_count": 52,
   "metadata": {},
   "outputs": [
    {
     "data": {
      "text/plain": [
       "array([[nan, nan, nan],\n",
       "       [nan, nan, nan],\n",
       "       [nan, nan, nan],\n",
       "       [ 0.,  1.,  2.],\n",
       "       [ 1.,  2.,  3.],\n",
       "       [ 2.,  3.,  4.],\n",
       "       [ 3.,  4.,  5.],\n",
       "       [ 4.,  5.,  6.],\n",
       "       [ 5.,  6.,  7.],\n",
       "       [ 6.,  7.,  8.]])"
      ]
     },
     "execution_count": 52,
     "metadata": {},
     "output_type": "execute_result"
    }
   ],
   "source": [
    "lb_2 = 3\n",
    "\n",
    "arr_2 = np.arange(10)\n",
    "p_arr_2 = np.full((arr_2.size, lb_2), np.nan)\n",
    "g_arr_2 = arr_2[lb_2:].size\n",
    "\n",
    "p_arr_2[lb_2:, 0] = arr_2[:g_arr_2]\n",
    "p_arr_2[lb_2:, 1] = arr_2[1 : g_arr_2 + 1]\n",
    "p_arr_2[lb_2:, 2] = arr_2[2 : g_arr_2 + 2]\n",
    "p_arr_2"
   ]
  },
  {
   "cell_type": "code",
   "execution_count": 53,
   "metadata": {},
   "outputs": [
    {
     "data": {
      "text/plain": [
       "array([[nan, nan, nan, nan, nan, nan, nan],\n",
       "       [nan, nan, nan, nan, nan, nan, nan],\n",
       "       [nan, nan, nan, nan, nan, nan, nan],\n",
       "       [nan, nan, nan, nan, nan, nan, nan],\n",
       "       [nan, nan, nan, nan, nan, nan, nan],\n",
       "       [nan, nan, nan, nan, nan, nan, nan],\n",
       "       [nan, nan, nan, nan, nan, nan, nan],\n",
       "       [ 0.,  1.,  2.,  3.,  4.,  5.,  6.],\n",
       "       [ 1.,  2.,  3.,  4.,  5.,  6.,  7.],\n",
       "       [ 2.,  3.,  4.,  5.,  6.,  7.,  8.],\n",
       "       [ 3.,  4.,  5.,  6.,  7.,  8.,  9.],\n",
       "       [ 4.,  5.,  6.,  7.,  8.,  9., 10.],\n",
       "       [ 5.,  6.,  7.,  8.,  9., 10., 11.],\n",
       "       [ 6.,  7.,  8.,  9., 10., 11., 12.],\n",
       "       [ 7.,  8.,  9., 10., 11., 12., 13.],\n",
       "       [ 8.,  9., 10., 11., 12., 13., 14.],\n",
       "       [ 9., 10., 11., 12., 13., 14., 15.],\n",
       "       [10., 11., 12., 13., 14., 15., 16.],\n",
       "       [11., 12., 13., 14., 15., 16., 17.],\n",
       "       [12., 13., 14., 15., 16., 17., 18.]])"
      ]
     },
     "execution_count": 53,
     "metadata": {},
     "output_type": "execute_result"
    }
   ],
   "source": [
    "lb_3 = 7\n",
    "include = False\n",
    "num_cols = lb_3\n",
    "\n",
    "arr_3 = np.arange(20)\n",
    "p_arr_3 = np.full((arr_3.size, lb_3), np.nan)\n",
    "g_arr_3 = arr_3[lb_3:].size\n",
    "\n",
    "\n",
    "for col in range(lb_3):\n",
    "    p_arr_3[lb_3:, col] = arr_3[col : g_arr_3 + col]\n",
    "\n",
    "p_arr_3"
   ]
  },
  {
   "cell_type": "code",
   "execution_count": 54,
   "metadata": {},
   "outputs": [
    {
     "data": {
      "text/plain": [
       "array([[nan, nan, nan],\n",
       "       [nan, nan, nan],\n",
       "       [nan, nan, nan],\n",
       "       [nan, nan, nan],\n",
       "       [nan, nan, nan],\n",
       "       [ 0.,  1.,  2.],\n",
       "       [ 1.,  2.,  3.],\n",
       "       [ 2.,  3.,  4.],\n",
       "       [ 3.,  4.,  5.],\n",
       "       [ 4.,  5.,  6.]])"
      ]
     },
     "execution_count": 54,
     "metadata": {},
     "output_type": "execute_result"
    }
   ],
   "source": [
    "lb_4 = 3\n",
    "include = False\n",
    "num_cols = lb_4\n",
    "\n",
    "if include:\n",
    "    num_cols += 1\n",
    "\n",
    "arr_4 = np.array([np.nan, np.nan, 0.0, 1.0, 2.0, 3.0, 4.0, 5.0, 6.0, 7.0])\n",
    "\n",
    "arr_4_size = arr_4.size\n",
    "\n",
    "a_arr_4 = np.where(np.isnan(arr_4))[0].size\n",
    "\n",
    "p_arr_4 = np.full((arr_4_size, num_cols), np.nan)\n",
    "g_arr_4 = arr_4[lb_4:].size\n",
    "\n",
    "s_pa = lb_4 + a_arr_4\n",
    "\n",
    "for col in range(num_cols):\n",
    "    p_arr_4[s_pa:, col] = arr_4[col + a_arr_4 : g_arr_4 + col]\n",
    "\n",
    "p_arr_4"
   ]
  },
  {
   "cell_type": "code",
   "execution_count": 55,
   "metadata": {},
   "outputs": [],
   "source": [
    "def np_lb_one(\n",
    "    arr: np.ndarray,\n",
    "    include: bool,\n",
    "    lb: int,\n",
    ") -> np.ndarray:\n",
    "    num_cols = lb\n",
    "\n",
    "    if include:\n",
    "        num_cols += 1\n",
    "\n",
    "    arr_size = arr.size\n",
    "    p_arr = np.full((arr_size, num_cols), np.nan)  # previous array\n",
    "    g_arr = arr_size - lb  # grab end of arr index\n",
    "    a_arr = np.where(np.isnan(arr))[0].size  # add total number of nans to p arr start and arr start in loop\n",
    "\n",
    "    s_pa = lb + a_arr  # start for previous array\n",
    "\n",
    "    for col in range(num_cols):\n",
    "        p_arr[s_pa:, col] = arr[col + a_arr : g_arr + col]\n",
    "\n",
    "    return p_arr"
   ]
  },
  {
   "cell_type": "code",
   "execution_count": 56,
   "metadata": {},
   "outputs": [
    {
     "data": {
      "text/plain": [
       "array([[nan, nan, nan],\n",
       "       [nan, nan, nan],\n",
       "       [nan, nan, nan],\n",
       "       [nan, nan, nan],\n",
       "       [nan, nan, nan],\n",
       "       [ 0.,  1.,  2.],\n",
       "       [ 1.,  2.,  3.],\n",
       "       [ 2.,  3.,  4.],\n",
       "       [ 3.,  4.,  5.],\n",
       "       [ 4.,  5.,  6.]])"
      ]
     },
     "execution_count": 56,
     "metadata": {},
     "output_type": "execute_result"
    }
   ],
   "source": [
    "np_lb_one(\n",
    "    arr=np.array([np.nan, np.nan, 0.0, 1.0, 2.0, 3.0, 4.0, 5.0, 6.0, 7.0]),\n",
    "    include=False,\n",
    "    lb=3,\n",
    ")"
   ]
  },
  {
   "cell_type": "code",
   "execution_count": 57,
   "metadata": {},
   "outputs": [],
   "source": [
    "candles = dl_ex_candles(\n",
    "    exchange=\"mufex\",\n",
    "    symbol=\"BTCUSDT\",\n",
    "    timeframe=\"5m\",\n",
    "    since_datetime=datetime(2024, 1, 1),\n",
    ")"
   ]
  },
  {
   "cell_type": "code",
   "execution_count": 58,
   "metadata": {},
   "outputs": [],
   "source": [
    "rsi = rsi_tv(\n",
    "    source=candles.candle_close_prices,\n",
    "    length=14,\n",
    ").round(2)"
   ]
  },
  {
   "cell_type": "code",
   "execution_count": 59,
   "metadata": {},
   "outputs": [
    {
     "data": {
      "text/plain": [
       "array([[  nan,   nan,   nan,   nan],\n",
       "       [  nan,   nan,   nan,   nan],\n",
       "       [  nan,   nan,   nan,   nan],\n",
       "       [  nan,   nan,   nan,   nan],\n",
       "       [  nan,   nan,   nan,   nan],\n",
       "       [  nan,   nan,   nan,   nan],\n",
       "       [56.06, 59.22, 56.72, 57.87],\n",
       "       [59.22, 56.72, 57.87, 64.11],\n",
       "       [56.72, 57.87, 64.11, 73.53],\n",
       "       [57.87, 64.11, 73.53, 70.33],\n",
       "       [64.11, 73.53, 70.33, 70.13],\n",
       "       [73.53, 70.33, 70.13, 66.12],\n",
       "       [70.33, 70.13, 66.12, 59.77]])"
      ]
     },
     "execution_count": 59,
     "metadata": {},
     "output_type": "execute_result"
    }
   ],
   "source": [
    "rsi_lb = np_lb_one(\n",
    "    arr=rsi,\n",
    "    include=False,\n",
    "    lb=4,\n",
    ")\n",
    "rsi_lb[12:25]"
   ]
  },
  {
   "cell_type": "code",
   "execution_count": 60,
   "metadata": {},
   "outputs": [
    {
     "data": {
      "text/plain": [
       "array([  nan,   nan, 56.06, 59.22, 56.72, 57.87, 64.11, 73.53, 70.33,\n",
       "       70.13, 66.12, 59.77, 54.86])"
      ]
     },
     "execution_count": 60,
     "metadata": {},
     "output_type": "execute_result"
    }
   ],
   "source": [
    "rsi[12:25]"
   ]
  },
  {
   "cell_type": "code",
   "execution_count": 61,
   "metadata": {},
   "outputs": [
    {
     "data": {
      "text/plain": [
       "array([[False, False, False, False],\n",
       "       [False, False, False, False],\n",
       "       [False, False, False, False],\n",
       "       ...,\n",
       "       [False, False, False, False],\n",
       "       [False, False, False, False],\n",
       "       [False, False, False, False]])"
      ]
     },
     "execution_count": 61,
     "metadata": {},
     "output_type": "execute_result"
    }
   ],
   "source": [
    "rsi_lb_result = rsi_lb < 30\n",
    "rsi_lb_result"
   ]
  },
  {
   "cell_type": "code",
   "execution_count": 62,
   "metadata": {},
   "outputs": [
    {
     "data": {
      "text/plain": [
       "array([ True,  True,  True,  True])"
      ]
     },
     "execution_count": 62,
     "metadata": {},
     "output_type": "execute_result"
    }
   ],
   "source": [
    "rsi_lb_result_any_0 = rsi_lb_result.any(axis=0)\n",
    "rsi_lb_result_any_0"
   ]
  },
  {
   "cell_type": "code",
   "execution_count": 63,
   "metadata": {},
   "outputs": [
    {
     "data": {
      "text/plain": [
       "array([False, False, False, ..., False, False, False])"
      ]
     },
     "execution_count": 63,
     "metadata": {},
     "output_type": "execute_result"
    }
   ],
   "source": [
    "rsi_lb_result_any_1 = rsi_lb_result.any(axis=1)\n",
    "rsi_lb_result_any_1"
   ]
  },
  {
   "cell_type": "code",
   "execution_count": 64,
   "metadata": {},
   "outputs": [
    {
     "data": {
      "text/plain": [
       "(array([  45,   46,   47,   48,  429,  430,  431,  432,  472,  473,  474,\n",
       "         475,  671,  672,  673,  674,  711,  712,  713,  714,  715,  716,\n",
       "         717,  718,  719,  720,  721,  722,  723,  724,  725,  726,  727,\n",
       "        1174, 1175, 1176, 1177, 1178, 1179, 1284, 1285, 1286, 1287],\n",
       "       dtype=int64),)"
      ]
     },
     "execution_count": 64,
     "metadata": {},
     "output_type": "execute_result"
    }
   ],
   "source": [
    "np.where(rsi_lb_result_any_1)"
   ]
  },
  {
   "cell_type": "code",
   "execution_count": 65,
   "metadata": {},
   "outputs": [
    {
     "data": {
      "text/plain": [
       "True"
      ]
     },
     "execution_count": 65,
     "metadata": {},
     "output_type": "execute_result"
    }
   ],
   "source": [
    "rsi_lb_result_any_1[45]"
   ]
  },
  {
   "cell_type": "code",
   "execution_count": 66,
   "metadata": {},
   "outputs": [
    {
     "data": {
      "text/plain": [
       "array([False, False, False,  True])"
      ]
     },
     "execution_count": 66,
     "metadata": {},
     "output_type": "execute_result"
    }
   ],
   "source": [
    "rsi_lb_result[45]"
   ]
  },
  {
   "cell_type": "code",
   "execution_count": 67,
   "metadata": {},
   "outputs": [
    {
     "data": {
      "text/plain": [
       "array([False, False, False, ..., False, False, False])"
      ]
     },
     "execution_count": 67,
     "metadata": {},
     "output_type": "execute_result"
    }
   ],
   "source": [
    "rsi_lb_result_all_1 = rsi_lb_result.all(axis=1)\n",
    "rsi_lb_result_all_1"
   ]
  },
  {
   "cell_type": "code",
   "execution_count": 68,
   "metadata": {},
   "outputs": [
    {
     "data": {
      "text/plain": [
       "(array([716, 721, 722, 723, 724], dtype=int64),)"
      ]
     },
     "execution_count": 68,
     "metadata": {},
     "output_type": "execute_result"
    }
   ],
   "source": [
    "np.where(rsi_lb_result_all_1)"
   ]
  },
  {
   "cell_type": "code",
   "execution_count": 69,
   "metadata": {},
   "outputs": [
    {
     "name": "stdout",
     "output_type": "stream",
     "text": [
      "[ True  True  True  True]\n",
      "True\n",
      "True\n"
     ]
    }
   ],
   "source": [
    "print(rsi_lb_result[723])\n",
    "print(rsi_lb_result_any_1[723])\n",
    "print(rsi_lb_result_all_1[723])"
   ]
  }
 ],
 "metadata": {
  "kernelspec": {
   "display_name": "qfree",
   "language": "python",
   "name": "python3"
  },
  "language_info": {
   "codemirror_mode": {
    "name": "ipython",
    "version": 3
   },
   "file_extension": ".py",
   "mimetype": "text/x-python",
   "name": "python",
   "nbconvert_exporter": "python",
   "pygments_lexer": "ipython3",
   "version": "3.10.10"
  }
 },
 "nbformat": 4,
 "nbformat_minor": 2
}
