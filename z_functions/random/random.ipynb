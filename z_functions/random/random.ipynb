{
 "cells": [
  {
   "cell_type": "code",
   "execution_count": 1,
   "metadata": {},
   "outputs": [
    {
     "name": "stdout",
     "output_type": "stream",
     "text": [
      "0.7876132025249477\n"
     ]
    }
   ],
   "source": [
    "# Python3 program to demonstrate \n",
    "# the use of random() function . \n",
    "\n",
    "# import random \n",
    "from random import random \n",
    "\n",
    "# Prints random item \n",
    "print(random())\n"
   ]
  },
  {
   "cell_type": "code",
   "execution_count": 2,
   "metadata": {},
   "outputs": [
    {
     "name": "stdout",
     "output_type": "stream",
     "text": [
      "0.35921866343928044\n"
     ]
    }
   ],
   "source": [
    "# Python3 program to demonstrate \n",
    "# the use of random() function . \n",
    "import random \n",
    "\n",
    "# Prints random item \n",
    "print(random.random())\n"
   ]
  },
  {
   "cell_type": "code",
   "execution_count": 4,
   "metadata": {},
   "outputs": [
    {
     "name": "stdout",
     "output_type": "stream",
     "text": [
      "[0.9358257814051557, 0.9733105901286422, 0.8164948991675698, 0.7682616417475182, 0.7810995215662386, 0.35956632494495344, 0.14947335820944718, 0.7026685674333584, 0.005528453911743614, 0.7743366962564217]\n"
     ]
    }
   ],
   "source": [
    "# Python3 program to demonstrate\n",
    "# the use of random() function . \n",
    "\n",
    "# import random \n",
    "from random import random\n",
    "\n",
    "lst = []\n",
    "\n",
    "for i in range(10):\n",
    "    lst.append(random())\n",
    "\n",
    "# Prints random items\n",
    "print(lst)\n"
   ]
  },
  {
   "cell_type": "code",
   "execution_count": null,
   "metadata": {},
   "outputs": [],
   "source": []
  }
 ],
 "metadata": {
  "kernelspec": {
   "display_name": "qfree_3_12_4",
   "language": "python",
   "name": "python3"
  },
  "language_info": {
   "codemirror_mode": {
    "name": "ipython",
    "version": 3
   },
   "file_extension": ".py",
   "mimetype": "text/x-python",
   "name": "python",
   "nbconvert_exporter": "python",
   "pygments_lexer": "ipython3",
   "version": "3.12.4"
  }
 },
 "nbformat": 4,
 "nbformat_minor": 2
}
