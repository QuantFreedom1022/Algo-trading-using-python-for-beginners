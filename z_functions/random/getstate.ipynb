{
 "cells": [
  {
   "cell_type": "code",
   "execution_count": null,
   "metadata": {},
   "outputs": [],
   "source": [
    "import random\n",
    "\n",
    "# remember this state \n",
    "state = random.getstate()\n",
    " \n",
    "# print 10 random numbers\n",
    "print(random.sample(range(20), k = 10)) \n",
    " \n",
    "# restore state\n",
    "random.setstate(state)\n",
    " \n",
    "# print same first 5 random numbers\n",
    "# as above\n",
    "print(random.sample(range(20), k = 5)) "
   ]
  },
  {
   "cell_type": "code",
   "execution_count": null,
   "metadata": {},
   "outputs": [],
   "source": [
    "list1 = [1, 2, 3, 4, 5, 6]\n",
    "\n",
    "# Get the state\n",
    "state = random.getstate()\n",
    "\n",
    "# prints a random value from the list\n",
    "print(random.choice(list1))\n",
    "\n",
    "# Set the state\n",
    "random.setstate(state)\n",
    "\n",
    "# prints the same random value\n",
    "# from the list\n",
    "print(random.choice(list1))"
   ]
  }
 ],
 "metadata": {
  "language_info": {
   "name": "python"
  }
 },
 "nbformat": 4,
 "nbformat_minor": 2
}
