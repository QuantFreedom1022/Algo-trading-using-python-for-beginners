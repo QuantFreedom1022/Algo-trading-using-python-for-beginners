{
 "cells": [
  {
   "cell_type": "code",
   "execution_count": 1,
   "metadata": {},
   "outputs": [
    {
     "name": "stdout",
     "output_type": "stream",
     "text": [
      "[4, 3, 2]\n"
     ]
    }
   ],
   "source": [
    "# Python3 program to demonstrate \n",
    "# the use of sample() function . \n",
    "\n",
    "# import random \n",
    "from random import sample \n",
    "\n",
    "# Prints list of random items of given length \n",
    "list1 = [1, 2, 3, 4, 5] \n",
    "\n",
    "print(sample(list1,3)) \n"
   ]
  },
  {
   "cell_type": "code",
   "execution_count": 4,
   "metadata": {},
   "outputs": [
    {
     "name": "stdout",
     "output_type": "stream",
     "text": [
      "With list: [1, 2, 4]\n",
      "With string: ['e', 'k', 'r', 'k']\n",
      "With tuple: ['portal', 'computer', 'scientist', 'science']\n",
      "With set: ['a', 'b', 'e']\n"
     ]
    }
   ],
   "source": [
    "# Python3 program to demonstrate\n",
    "# the use of sample() function .\n",
    "\n",
    "# import random\n",
    "import random\n",
    "\n",
    "\n",
    "# Prints list of random items of\n",
    "# length 3 from the given list.\n",
    "list1 = [1, 2, 3, 4, 5, 6]\n",
    "print(\"With list:\", random.sample(list1, 3))\n",
    "\n",
    "# Prints list of random items of\n",
    "# length 4 from the given string.\n",
    "string = \"GeeksforGeeks\"\n",
    "print(\"With string:\", random.sample(string, 4))\n",
    "\n",
    "# Prints list of random items of\n",
    "# length 4 from the given tuple.\n",
    "tuple1 = (\"ankit\", \"geeks\", \"computer\", \"science\", \"portal\", \"scientist\", \"btech\")\n",
    "print(\"With tuple:\", random.sample(tuple1, 4))\n",
    "\n",
    "\n",
    "# Prints list of random items of\n",
    "# length 3 from the given set.\n",
    "set1 = {\"a\", \"b\", \"c\", \"d\", \"e\"}\n",
    "print(\"With set:\", random.sample(sorted(set1), 3))"
   ]
  },
  {
   "cell_type": "code",
   "execution_count": null,
   "metadata": {},
   "outputs": [],
   "source": []
  }
 ],
 "metadata": {
  "kernelspec": {
   "display_name": "qfree_3_12_4",
   "language": "python",
   "name": "python3"
  },
  "language_info": {
   "codemirror_mode": {
    "name": "ipython",
    "version": 3
   },
   "file_extension": ".py",
   "mimetype": "text/x-python",
   "name": "python",
   "nbconvert_exporter": "python",
   "pygments_lexer": "ipython3",
   "version": "3.12.4"
  }
 },
 "nbformat": 4,
 "nbformat_minor": 2
}
