{
 "cells": [
  {
   "cell_type": "code",
   "execution_count": 1,
   "metadata": {},
   "outputs": [],
   "source": [
    "from itertools import starmap"
   ]
  },
  {
   "cell_type": "code",
   "execution_count": 2,
   "metadata": {},
   "outputs": [
    {
     "ename": "TypeError",
     "evalue": "pow() missing required argument 'exp' (pos 2)",
     "output_type": "error",
     "traceback": [
      "\u001b[1;31m---------------------------------------------------------------------------\u001b[0m",
      "\u001b[1;31mTypeError\u001b[0m                                 Traceback (most recent call last)",
      "Cell \u001b[1;32mIn[2], line 3\u001b[0m\n\u001b[0;32m      1\u001b[0m li \u001b[38;5;241m=\u001b[39m [(\u001b[38;5;241m2\u001b[39m, \u001b[38;5;241m5\u001b[39m), (\u001b[38;5;241m3\u001b[39m, \u001b[38;5;241m2\u001b[39m), (\u001b[38;5;241m4\u001b[39m, \u001b[38;5;241m3\u001b[39m)]\n\u001b[1;32m----> 3\u001b[0m new_li \u001b[38;5;241m=\u001b[39m \u001b[38;5;28;43mlist\u001b[39;49m\u001b[43m(\u001b[49m\u001b[38;5;28;43mmap\u001b[39;49m\u001b[43m(\u001b[49m\u001b[38;5;28;43mpow\u001b[39;49m\u001b[43m,\u001b[49m\u001b[43m \u001b[49m\u001b[43mli\u001b[49m\u001b[43m)\u001b[49m\u001b[43m)\u001b[49m\n\u001b[0;32m      5\u001b[0m \u001b[38;5;28mprint\u001b[39m(new_li)\n",
      "\u001b[1;31mTypeError\u001b[0m: pow() missing required argument 'exp' (pos 2)"
     ]
    }
   ],
   "source": [
    "li = [(2, 5), (3, 2), (4, 3)]\n",
    "\n",
    "new_li = list(map(pow, li))\n",
    "\n",
    "print(new_li)"
   ]
  },
  {
   "cell_type": "code",
   "execution_count": 3,
   "metadata": {},
   "outputs": [
    {
     "name": "stdout",
     "output_type": "stream",
     "text": [
      "[32, 9, 64]\n"
     ]
    }
   ],
   "source": [
    "li = [(2, 5), (3, 2), (4, 3)]\n",
    "\n",
    "new_li = list(starmap(pow, li))\n",
    "\n",
    "print(new_li)"
   ]
  },
  {
   "cell_type": "code",
   "execution_count": 7,
   "metadata": {},
   "outputs": [
    {
     "data": {
      "text/plain": [
       "[32, 9, 64]"
      ]
     },
     "execution_count": 7,
     "metadata": {},
     "output_type": "execute_result"
    }
   ],
   "source": [
    "def startmap(function, iterables):\n",
    "\n",
    "    for it in iterables:\n",
    "        yield function(*it)\n",
    "list(startmap(pow, li))"
   ]
  },
  {
   "cell_type": "code",
   "execution_count": 10,
   "metadata": {},
   "outputs": [
    {
     "name": "stdout",
     "output_type": "stream",
     "text": [
      "itertools.starmap(func(x, y), [(1, 2), (3, 4), (5, 6)]) = [2, 12, 30]\n"
     ]
    }
   ],
   "source": [
    "lst = [(1, 2), (3, 4), (5, 6)]\n",
    "\n",
    "\n",
    "def func(x, y):\n",
    "    return x * y\n",
    "\n",
    "\n",
    "ret_val = starmap(func, lst)\n",
    "\n",
    "print(\"itertools.starmap(func(x, y), %s) = %s\" % (lst, list(ret_val)))"
   ]
  },
  {
   "cell_type": "code",
   "execution_count": 8,
   "metadata": {},
   "outputs": [
    {
     "name": "stdout",
     "output_type": "stream",
     "text": [
      "[4, 5, 6, 7, 8, 9]\n"
     ]
    }
   ],
   "source": [
    "li = [2, 3, 4, 5, 6, 7]\n",
    "\n",
    "# adds 2 to each element in list\n",
    "ans = list(map(lambda x: x + 2, li))\n",
    "\n",
    "print(ans)"
   ]
  },
  {
   "cell_type": "code",
   "execution_count": 9,
   "metadata": {},
   "outputs": [
    {
     "name": "stdout",
     "output_type": "stream",
     "text": [
      "[5, 4, 10, 8, 11, 9]\n"
     ]
    }
   ],
   "source": [
    "li = [(2, 3), (3, 1), (4, 6), (5, 3), (6, 5), (7, 2)]\n",
    "\n",
    "ans = list(starmap(lambda x, y: x + y, li))\n",
    "\n",
    "print(ans)"
   ]
  },
  {
   "cell_type": "code",
   "execution_count": 11,
   "metadata": {},
   "outputs": [
    {
     "name": "stdout",
     "output_type": "stream",
     "text": [
      "tuples which form right angled triangle : [False, True, True, False, False]\n",
      "\n",
      "The right triangle coordinates are :(3, 4, 5) (6, 8, 10) "
     ]
    }
   ],
   "source": [
    "co_ordinates = [(2, 3, 4), (3, 4, 5), (6, 8, 10), (1, 5, 7), (7, 4, 10)]\n",
    "\n",
    "\n",
    "# Set true if coordinates form\n",
    "# a right-triangle else false\n",
    "right_triangles = list(starmap(lambda x, y, z: True if ((x * x) + (y * y)) == (z * z) else False, co_ordinates))\n",
    "\n",
    "print(\"tuples which form right angled triangle :\", right_triangles, end=\"\\n\\n\")\n",
    "\n",
    "print(\"The right triangle coordinates are :\", end=\"\")\n",
    "\n",
    "# to print the coordinates\n",
    "for i in range(0, len(right_triangles)):\n",
    "\n",
    "    if right_triangles[i] == True:\n",
    "\n",
    "        print(co_ordinates[i], end=\" \")"
   ]
  },
  {
   "cell_type": "code",
   "execution_count": 13,
   "metadata": {},
   "outputs": [
    {
     "name": "stdout",
     "output_type": "stream",
     "text": [
      "itertools.starmap(lambda_div, [(1, 2), (3, 4), (5, 6)]) = [0.5, 0.75, 0.8333333333333334]\n"
     ]
    }
   ],
   "source": [
    "lst = [(1, 2), (3, 4), (5, 6)]\n",
    "\n",
    "lambda_div = lambda x, y : x/y\n",
    "\n",
    "ret_val = starmap(lambda_div, lst)\n",
    "\n",
    "print(\"itertools.starmap(lambda_div, %s) = %s\" % (lst, list(ret_val)))"
   ]
  }
 ],
 "metadata": {
  "kernelspec": {
   "display_name": "qfree_3_12_4",
   "language": "python",
   "name": "python3"
  },
  "language_info": {
   "codemirror_mode": {
    "name": "ipython",
    "version": 3
   },
   "file_extension": ".py",
   "mimetype": "text/x-python",
   "name": "python",
   "nbconvert_exporter": "python",
   "pygments_lexer": "ipython3",
   "version": "3.12.4"
  }
 },
 "nbformat": 4,
 "nbformat_minor": 2
}
