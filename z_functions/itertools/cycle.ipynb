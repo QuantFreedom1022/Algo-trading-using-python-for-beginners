{
 "cells": [
  {
   "cell_type": "code",
   "execution_count": 8,
   "metadata": {},
   "outputs": [],
   "source": [
    "from itertools import cycle"
   ]
  },
  {
   "cell_type": "code",
   "execution_count": 24,
   "metadata": {},
   "outputs": [
    {
     "name": "stdout",
     "output_type": "stream",
     "text": [
      "on\n",
      "off\n",
      "on\n",
      "off\n",
      "on\n",
      "off\n",
      "on\n",
      "off\n"
     ]
    }
   ],
   "source": [
    "c = cycle([\"on\", \"off\"])\n",
    "print(next(c))\n",
    "print(next(c))\n",
    "print(next(c))\n",
    "print(next(c))\n",
    "print(next(c))\n",
    "print(next(c))\n",
    "print(next(c))\n",
    "print(next(c))"
   ]
  },
  {
   "cell_type": "code",
   "execution_count": 25,
   "metadata": {},
   "outputs": [
    {
     "name": "stdout",
     "output_type": "stream",
     "text": [
      "1\n",
      "2\n",
      "3\n",
      "4\n",
      "1\n",
      "2\n",
      "3\n",
      "4\n"
     ]
    }
   ],
   "source": [
    "c = cycle([1, 2, 3, 4])\n",
    "print(next(c))\n",
    "print(next(c))\n",
    "print(next(c))\n",
    "print(next(c))\n",
    "print(next(c))\n",
    "print(next(c))\n",
    "print(next(c))\n",
    "print(next(c))"
   ]
  },
  {
   "cell_type": "code",
   "execution_count": 26,
   "metadata": {},
   "outputs": [
    {
     "name": "stdout",
     "output_type": "stream",
     "text": [
      "1\n",
      "2\n",
      "3\n",
      "4\n",
      "1\n",
      "2\n",
      "3\n",
      "4\n",
      "1\n",
      "2\n",
      "3\n"
     ]
    }
   ],
   "source": [
    "counter = 0\n",
    "for i in c:\n",
    "\n",
    "    print(i)\n",
    "    counter += 1\n",
    "    if counter > 10:\n",
    "        break"
   ]
  },
  {
   "cell_type": "code",
   "execution_count": 21,
   "metadata": {},
   "outputs": [
    {
     "name": "stdout",
     "output_type": "stream",
     "text": [
      "red\n",
      "green\n",
      "blue\n",
      "red\n",
      "green\n",
      "blue\n",
      "red\n",
      "green\n",
      "blue\n",
      "red\n"
     ]
    }
   ],
   "source": [
    "colors = ['red', 'green', 'blue']\n",
    "cycle_colors = cycle(colors)\n",
    "for i in range(10):\n",
    "    print(next(cycle_colors))"
   ]
  },
  {
   "cell_type": "code",
   "execution_count": 20,
   "metadata": {},
   "outputs": [
    {
     "name": "stdout",
     "output_type": "stream",
     "text": [
      "Assigning task1 to worker1\n",
      "Assigning task2 to worker2\n",
      "Assigning task3 to worker3\n"
     ]
    }
   ],
   "source": [
    "tasks = ['task1', 'task2', 'task3']\n",
    "workers = ['worker1', 'worker2', 'worker3']\n",
    "cycle_workers = cycle(workers)\n",
    "for task in tasks:\n",
    "    worker = next(cycle_workers)\n",
    "    print(f\"Assigning {task} to {worker}\")"
   ]
  },
  {
   "cell_type": "code",
   "execution_count": 15,
   "metadata": {},
   "outputs": [
    {
     "name": "stdout",
     "output_type": "stream",
     "text": [
      "C-o-d-e-s-p-e-e-d-y-C-o-d-e-s-p-"
     ]
    }
   ],
   "source": [
    "c = 0\n",
    "\n",
    "for i in cycle(\"Codespeedy\"):\n",
    "\n",
    "    print(i, end=\"-\")\n",
    "\n",
    "    c += 1\n",
    "\n",
    "    if c > 15:\n",
    "\n",
    "        break"
   ]
  },
  {
   "cell_type": "code",
   "execution_count": 17,
   "metadata": {},
   "outputs": [
    {
     "name": "stdout",
     "output_type": "stream",
     "text": [
      "code-speedy-code-speedy-code-speedy-code-speedy-code-speedy-code-"
     ]
    }
   ],
   "source": [
    "c = 0\n",
    "\n",
    "l = [\"code\", \"speedy\"]\n",
    "\n",
    "for i in cycle(l):\n",
    "\n",
    "    print(i, end=\"-\")\n",
    "\n",
    "    c += 1\n",
    "\n",
    "    if c > 10:\n",
    "\n",
    "        break"
   ]
  },
  {
   "cell_type": "code",
   "execution_count": 3,
   "metadata": {},
   "outputs": [
    {
     "name": "stdout",
     "output_type": "stream",
     "text": [
      "Sequence  1\n",
      "G e e k s \n",
      "\n",
      "Sequence  2\n",
      "G e e k s \n",
      "\n",
      "Sequence  3\n",
      "G e e k s "
     ]
    }
   ],
   "source": [
    "Inputstring = \"Geeks\"\n",
    "\n",
    "StringBuffer = cycle(Inputstring)\n",
    "SequenceRepeation = 0\n",
    "SequenceStart = 0\n",
    "SequenceEnd = len(Inputstring)\n",
    "\n",
    "for output in StringBuffer:\n",
    "    if SequenceStart == 0:\n",
    "        print(\"Sequence % d\" % (SequenceRepeation + 1))\n",
    "\n",
    "    print(output, end=\" \")\n",
    "\n",
    "    if SequenceStart == SequenceEnd - 1:\n",
    "\n",
    "        if SequenceRepeation >= 2:\n",
    "            break\n",
    "        else:\n",
    "            SequenceRepeation += 1\n",
    "            SequenceStart = 0\n",
    "            print(\"\\n\")\n",
    "    else:\n",
    "        SequenceStart += 1"
   ]
  },
  {
   "cell_type": "code",
   "execution_count": 4,
   "metadata": {},
   "outputs": [
    {
     "name": "stdout",
     "output_type": "stream",
     "text": [
      "Sequence  1\n",
      "1 2 3 \n",
      "\n",
      "Sequence  2\n",
      "1 2 3 \n",
      "\n",
      "Sequence  3\n",
      "1 2 3 "
     ]
    }
   ],
   "source": [
    "Inputlist = [1, 2, 3]\n",
    "\n",
    "ListBuffer = cycle(Inputlist)\n",
    "SequenceRepeation = 0\n",
    "SequenceStart = 0\n",
    "SequenceEnd = len(Inputlist)\n",
    "\n",
    "for output in ListBuffer:\n",
    "    if SequenceStart == 0:\n",
    "        print(\"Sequence % d\" % (SequenceRepeation + 1))\n",
    "\n",
    "    print(output, end=\" \")\n",
    "\n",
    "    if SequenceStart == SequenceEnd - 1:\n",
    "\n",
    "        if SequenceRepeation >= 2:\n",
    "            break\n",
    "        else:\n",
    "            SequenceRepeation += 1\n",
    "            SequenceStart = 0\n",
    "            print(\"\\n\")\n",
    "    else:\n",
    "        SequenceStart += 1"
   ]
  }
 ],
 "metadata": {
  "kernelspec": {
   "display_name": "qfree_3_12_4",
   "language": "python",
   "name": "python3"
  },
  "language_info": {
   "codemirror_mode": {
    "name": "ipython",
    "version": 3
   },
   "file_extension": ".py",
   "mimetype": "text/x-python",
   "name": "python",
   "nbconvert_exporter": "python",
   "pygments_lexer": "ipython3",
   "version": "3.12.4"
  }
 },
 "nbformat": 4,
 "nbformat_minor": 2
}
