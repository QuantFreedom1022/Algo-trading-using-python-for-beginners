{
 "cells": [
  {
   "cell_type": "code",
   "execution_count": 86,
   "metadata": {},
   "outputs": [],
   "source": [
    "from itertools import combinations"
   ]
  },
  {
   "cell_type": "code",
   "execution_count": 87,
   "metadata": {},
   "outputs": [
    {
     "name": "stdout",
     "output_type": "stream",
     "text": [
      "All the combination of list in sorted order(without replacement) is:\n",
      "[('ABC', 2), ('ABC', 10), ('ABC', 40), (2, 10), (2, 40), (10, 40)]\n"
     ]
    }
   ],
   "source": [
    "print(\"All the combination of list in sorted order(without replacement) is:\")\n",
    "print(list(combinations([\"ABC\", 2, 10, 40], 2)))"
   ]
  },
  {
   "cell_type": "code",
   "execution_count": 88,
   "metadata": {},
   "outputs": [
    {
     "name": "stdout",
     "output_type": "stream",
     "text": [
      "All the combination of string in sorted order(without replacement) is:\n",
      "[('A', 'B', 'C'), ('A', 'B', 'D'), ('A', 'C', 'D'), ('B', 'C', 'D')]\n"
     ]
    }
   ],
   "source": [
    "print(\"All the combination of string in sorted order(without replacement) is:\")\n",
    "print(list(combinations(\"ABCD\", 3)))"
   ]
  },
  {
   "cell_type": "code",
   "execution_count": 89,
   "metadata": {},
   "outputs": [
    {
     "name": "stdout",
     "output_type": "stream",
     "text": [
      "All the combination of list in sorted order(without replacement) is:\n",
      "[(0, 1), (0, 2), (0, 3), (0, 4), (1, 2), (1, 3), (1, 4), (2, 3), (2, 4), (3, 4)]\n"
     ]
    }
   ],
   "source": [
    "print(\"All the combination of list in sorted order(without replacement) is:\")\n",
    "print(list(combinations(range(5), 2)))"
   ]
  },
  {
   "cell_type": "code",
   "execution_count": 90,
   "metadata": {},
   "outputs": [
    {
     "data": {
      "text/plain": [
       "<itertools.combinations at 0x211e42f34c0>"
      ]
     },
     "execution_count": 90,
     "metadata": {},
     "output_type": "execute_result"
    }
   ],
   "source": [
    "combinations(range(5), 2)"
   ]
  },
  {
   "cell_type": "code",
   "execution_count": 91,
   "metadata": {},
   "outputs": [
    {
     "data": {
      "text/plain": [
       "{0: 4, 1: 4, 2: 4, 3: 4}"
      ]
     },
     "execution_count": 91,
     "metadata": {},
     "output_type": "execute_result"
    }
   ],
   "source": [
    "dict(combinations(range(5), 2))"
   ]
  },
  {
   "cell_type": "code",
   "execution_count": 92,
   "metadata": {},
   "outputs": [
    {
     "data": {
      "text/plain": [
       "((0, 1),\n",
       " (0, 2),\n",
       " (0, 3),\n",
       " (0, 4),\n",
       " (1, 2),\n",
       " (1, 3),\n",
       " (1, 4),\n",
       " (2, 3),\n",
       " (2, 4),\n",
       " (3, 4))"
      ]
     },
     "execution_count": 92,
     "metadata": {},
     "output_type": "execute_result"
    }
   ],
   "source": [
    "tuple(combinations(range(5), 2))"
   ]
  },
  {
   "cell_type": "code",
   "execution_count": 93,
   "metadata": {},
   "outputs": [
    {
     "data": {
      "text/plain": [
       "[(0, 1),\n",
       " (0, 2),\n",
       " (0, 3),\n",
       " (0, 4),\n",
       " (1, 2),\n",
       " (1, 3),\n",
       " (1, 4),\n",
       " (2, 3),\n",
       " (2, 4),\n",
       " (3, 4)]"
      ]
     },
     "execution_count": 93,
     "metadata": {},
     "output_type": "execute_result"
    }
   ],
   "source": [
    "list(combinations(range(5), 2))"
   ]
  },
  {
   "cell_type": "code",
   "execution_count": 94,
   "metadata": {},
   "outputs": [
    {
     "name": "stdout",
     "output_type": "stream",
     "text": [
      "[(1, 2, 3), (1, 2, 4), (1, 2, 5), (1, 3, 4), (1, 3, 5), (1, 4, 5), (2, 3, 4), (2, 3, 5), (2, 4, 5), (3, 4, 5)]\n"
     ]
    }
   ],
   "source": [
    "def rSubset(arr, r):\n",
    "    return list(combinations(arr, r))\n",
    "\n",
    "arr = [1, 2, 3, 4, 5]\n",
    "r = 3\n",
    "print(rSubset(arr, r))"
   ]
  },
  {
   "cell_type": "code",
   "execution_count": 95,
   "metadata": {},
   "outputs": [
    {
     "name": "stdout",
     "output_type": "stream",
     "text": [
      "acdef\n",
      "acdeq\n",
      "acder\n",
      "acdes\n",
      "acdev\n",
      "acdew\n",
      "acdex\n",
      "acdez\n",
      "acdfq\n",
      "acdfr\n",
      "acdfs\n",
      "acdfv\n",
      "acdfw\n",
      "acdfx\n",
      "acdfz\n"
     ]
    }
   ],
   "source": [
    "def nPermute(string, n):\n",
    "\n",
    "    # Convert the string to list and sort\n",
    "    # the characters in alphabetical order\n",
    "    strList = sorted(string)\n",
    "\n",
    "    # Create an iterator\n",
    "    permList = combinations(strList, 5)\n",
    "\n",
    "    # Keep iterating until we\n",
    "    # reach nth unique permutation\n",
    "    i = 0\n",
    "    permSet = set()\n",
    "    tempStr = \"\"\n",
    "\n",
    "    while i < n:\n",
    "        tempStr = \"\".join(permList.__next__())\n",
    "\n",
    "        if tempStr not in permSet:\n",
    "            permSet.add(tempStr)\n",
    "            print(tempStr)\n",
    "            i += 1\n",
    "\n",
    "\n",
    "string = \"qwerasdfzxcv\"\n",
    "n = 15\n",
    "nPermute(string, n)"
   ]
  },
  {
   "cell_type": "code",
   "execution_count": 101,
   "metadata": {},
   "outputs": [
    {
     "name": "stdout",
     "output_type": "stream",
     "text": [
      "['G e E', 'G e K', 'G e S', 'G E K', 'G E S', 'G K S', 'e E K', 'e E S', 'e K S', 'E K S']\n"
     ]
    }
   ],
   "source": [
    "letters = \"GeEKS\"\n",
    "\n",
    "# size of combination is set to 3\n",
    "a = combinations(letters, 3)\n",
    "y = [\" \".join(i) for i in a]\n",
    "\n",
    "print(y)"
   ]
  },
  {
   "cell_type": "code",
   "execution_count": 102,
   "metadata": {},
   "outputs": [
    {
     "name": "stdout",
     "output_type": "stream",
     "text": [
      "[1, 2] [3, 4, 5]\n",
      "[1, 3] [2, 4, 5]\n",
      "[1, 4] [2, 3, 5]\n",
      "[1, 5] [2, 3, 4]\n",
      "[2, 3] [1, 4, 5]\n",
      "[2, 4] [1, 3, 5]\n",
      "[2, 5] [1, 3, 4]\n",
      "[3, 4] [1, 2, 5]\n",
      "[3, 5] [1, 2, 4]\n",
      "[4, 5] [1, 2, 3]\n"
     ]
    }
   ],
   "source": [
    "l = [1, 2, 3, 4, 5]\n",
    "empty_list = []\n",
    "\n",
    "for i in combinations(l, 2):\n",
    "    for j in l:\n",
    "        if j not in i:\n",
    "            empty_list.append(j)\n",
    "    print(list(i), empty_list)\n",
    "    empty_list = []"
   ]
  },
  {
   "cell_type": "code",
   "execution_count": 105,
   "metadata": {},
   "outputs": [
    {
     "data": {
      "text/plain": [
       "{(20, 20, 10, 10, 10, 10, 10, 5, 1, 1, 1, 1, 1),\n",
       " (20, 20, 10, 10, 10, 10, 10, 5, 5),\n",
       " (20, 20, 20, 10, 10, 10, 5, 1, 1, 1, 1, 1),\n",
       " (20, 20, 20, 10, 10, 10, 5, 5),\n",
       " (20, 20, 20, 10, 10, 10, 10)}"
      ]
     },
     "execution_count": 105,
     "metadata": {},
     "output_type": "execute_result"
    }
   ],
   "source": [
    "bills = [20, 20, 20, 10, 10, 10, 10, 10, 5, 5, 1, 1, 1, 1, 1]\n",
    "makes_100 = []\n",
    "for n in range(1, len(bills) + 1):\n",
    "    for combination in combinations(bills, n):\n",
    "        if sum(combination) == 100:\n",
    "            makes_100.append(combination)\n",
    "set(makes_100) # set removes duplicates"
   ]
  }
 ],
 "metadata": {
  "kernelspec": {
   "display_name": "qfree_3_12_4",
   "language": "python",
   "name": "python3"
  },
  "language_info": {
   "codemirror_mode": {
    "name": "ipython",
    "version": 3
   },
   "file_extension": ".py",
   "mimetype": "text/x-python",
   "name": "python",
   "nbconvert_exporter": "python",
   "pygments_lexer": "ipython3",
   "version": "3.12.4"
  }
 },
 "nbformat": 4,
 "nbformat_minor": 2
}
