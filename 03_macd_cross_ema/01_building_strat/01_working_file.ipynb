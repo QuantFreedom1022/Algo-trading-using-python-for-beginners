{
 "cells": [
  {
   "cell_type": "markdown",
   "metadata": {},
   "source": [
    "01 Working File\n"
   ]
  },
  {
   "cell_type": "code",
   "execution_count": 1,
   "metadata": {},
   "outputs": [],
   "source": [
    "import numpy as np\n",
    "import plotly.graph_objects as go\n",
    "from plotly.subplots import make_subplots\n",
    "from quantfreedom.helper_funcs import cart_product\n",
    "\n",
    "from typing import NamedTuple\n",
    "from quantfreedom.enums import CandleBodyType\n",
    "from quantfreedom.helper_funcs import dl_ex_candles\n",
    "from quantfreedom.indicators.tv_indicators import macd_tv, ema_tv\n",
    "\n",
    "np.set_printoptions(formatter={\"float_kind\": \"{:0.2f}\".format})\n",
    "\n",
    "%load_ext autoreload\n",
    "%autoreload 2"
   ]
  },
  {
   "cell_type": "code",
   "execution_count": 2,
   "metadata": {},
   "outputs": [],
   "source": [
    "candles = dl_ex_candles(\n",
    "    exchange=\"mufex\",\n",
    "    symbol=\"BTCUSDT\",\n",
    "    timeframe=\"5m\",\n",
    "    candles_to_dl=4500,\n",
    ")\n",
    "\n",
    "datetimes = candles[:, CandleBodyType.Timestamp].astype(\"datetime64[ms]\")\n",
    "closing_prices = candles[:, CandleBodyType.Close]\n",
    "high_prices = candles[:, CandleBodyType.High]"
   ]
  },
  {
   "cell_type": "code",
   "execution_count": 3,
   "metadata": {},
   "outputs": [],
   "source": [
    "macd_below = 0\n",
    "fast_length = 12\n",
    "slow_length = 26\n",
    "signal_smoothing = 9\n",
    "ema_length = 200"
   ]
  },
  {
   "cell_type": "code",
   "execution_count": 4,
   "metadata": {},
   "outputs": [],
   "source": [
    "histogram, macd, signal = macd_tv(\n",
    "    source=closing_prices,\n",
    "    fast_length=fast_length,\n",
    "    slow_length=slow_length,\n",
    "    signal_smoothing=signal_smoothing,\n",
    ")"
   ]
  },
  {
   "cell_type": "code",
   "execution_count": 5,
   "metadata": {},
   "outputs": [],
   "source": [
    "ema = ema_tv(\n",
    "    source=closing_prices,\n",
    "    length=ema_length,\n",
    ")"
   ]
  },
  {
   "cell_type": "code",
   "execution_count": 6,
   "metadata": {},
   "outputs": [],
   "source": [
    "prev_macd = np.roll(macd, 1)\n",
    "prev_macd[0] = np.nan\n",
    "\n",
    "prev_signal = np.roll(signal, 1)\n",
    "prev_signal[0] = np.nan"
   ]
  },
  {
   "cell_type": "code",
   "execution_count": 7,
   "metadata": {},
   "outputs": [],
   "source": [
    "prev_macd_below_signal = prev_macd < prev_signal\n",
    "current_macd_above_signal = macd > signal\n",
    "price_below_ema = high_prices < ema\n",
    "macd_below_bool = macd < macd_below"
   ]
  },
  {
   "cell_type": "code",
   "execution_count": 8,
   "metadata": {},
   "outputs": [],
   "source": [
    "entries = (\n",
    "    (price_below_ema == True)\n",
    "    & (prev_macd_below_signal == True)\n",
    "    & (current_macd_above_signal == True)\n",
    "    & (macd_below_bool == True)\n",
    ")"
   ]
  },
  {
   "cell_type": "code",
   "execution_count": 9,
   "metadata": {},
   "outputs": [],
   "source": [
    "entry_signals = np.where(entries, macd, np.nan)"
   ]
  },
  {
   "cell_type": "code",
   "execution_count": 10,
   "metadata": {},
   "outputs": [
    {
     "data": {
      "text/plain": [
       "array([[10, 20],\n",
       "       [10, 40],\n",
       "       [10, 60],\n",
       "       [20, 20],\n",
       "       [20, 40],\n",
       "       [20, 60],\n",
       "       [30, 20],\n",
       "       [30, 40],\n",
       "       [30, 60],\n",
       "       [40, 20],\n",
       "       [40, 40],\n",
       "       [40, 60]])"
      ]
     },
     "execution_count": 10,
     "metadata": {},
     "output_type": "execute_result"
    }
   ],
   "source": [
    "things = np.array([[10,10,10,20,20,20,30,30,30,40,40,40],[20,40,60,20,40,60,20,40,60,20,40,60]]).T\n",
    "things"
   ]
  },
  {
   "cell_type": "code",
   "execution_count": 11,
   "metadata": {},
   "outputs": [
    {
     "data": {
      "text/plain": [
       "array([10, 10, 10, 20, 20, 20, 30, 30, 30, 40, 40, 40])"
      ]
     },
     "execution_count": 11,
     "metadata": {},
     "output_type": "execute_result"
    }
   ],
   "source": [
    "things[:, 0]"
   ]
  },
  {
   "cell_type": "code",
   "execution_count": 12,
   "metadata": {},
   "outputs": [
    {
     "data": {
      "text/plain": [
       "array([[10, 20],\n",
       "       [10, 40],\n",
       "       [10, 60],\n",
       "       [20, 40],\n",
       "       [20, 60],\n",
       "       [30, 40],\n",
       "       [30, 60],\n",
       "       [40, 60]])"
      ]
     },
     "execution_count": 12,
     "metadata": {},
     "output_type": "execute_result"
    }
   ],
   "source": [
    "things[~(things[:, 0] >= things[:, 1])]"
   ]
  },
  {
   "cell_type": "code",
   "execution_count": 14,
   "metadata": {},
   "outputs": [],
   "source": [
    "class IndicatorSettingsArrays(NamedTuple):\n",
    "    ema_length: np.array\n",
    "    fast_length: np.array\n",
    "    macd_below: np.array\n",
    "    signal_smoothing: np.array\n",
    "    slow_length: np.array\n",
    "\n",
    "\n",
    "cart_arrays: np.array = cart_product(\n",
    "    named_tuple=IndicatorSettingsArrays(\n",
    "        ema_length=np.arange(50, 201, 50),\n",
    "        fast_length=np.arange(10, 41, 10),\n",
    "        macd_below=np.array([0]),\n",
    "        signal_smoothing=np.arange(10, 61, 10),\n",
    "        slow_length=np.arange(30, 331, 50),\n",
    "    )\n",
    ")\n",
    "indicator_settings_arrays: IndicatorSettingsArrays = IndicatorSettingsArrays(\n",
    "    ema_length=cart_arrays[0].astype(np.int_),\n",
    "    fast_length=cart_arrays[1].astype(np.int_),\n",
    "    macd_below=cart_arrays[2].astype(np.int_),\n",
    "    signal_smoothing=cart_arrays[3].astype(np.int_),\n",
    "    slow_length=cart_arrays[4].astype(np.int_),\n",
    ")"
   ]
  },
  {
   "cell_type": "code",
   "execution_count": 24,
   "metadata": {},
   "outputs": [
    {
     "data": {
      "text/plain": [
       "(672, 5)"
      ]
     },
     "execution_count": 24,
     "metadata": {},
     "output_type": "execute_result"
    }
   ],
   "source": [
    "cart_arrays.T.shape"
   ]
  },
  {
   "cell_type": "code",
   "execution_count": null,
   "metadata": {},
   "outputs": [],
   "source": [
    "cart_arrays[1] < cart_arrays[4]"
   ]
  },
  {
   "cell_type": "code",
   "execution_count": null,
   "metadata": {},
   "outputs": [
    {
     "data": {
      "text/plain": [
       "array([[50.00, 50.00, 50.00, ..., 200.00, 200.00, 200.00],\n",
       "       [10.00, 10.00, 10.00, ..., 40.00, 40.00, 40.00],\n",
       "       [0.00, 0.00, 0.00, ..., 0.00, 0.00, 0.00],\n",
       "       [10.00, 10.00, 10.00, ..., 60.00, 60.00, 60.00],\n",
       "       [30.00, 80.00, 130.00, ..., 230.00, 280.00, 330.00]])"
      ]
     },
     "metadata": {},
     "output_type": "display_data"
    }
   ],
   "source": [
    "cart_arrays.T[cart_arrays[1] < cart_arrays[4]].T"
   ]
  },
  {
   "cell_type": "code",
   "execution_count": null,
   "metadata": {},
   "outputs": [],
   "source": [
    "fig = go.Figure()\n",
    "datetimes = candles[:, CandleBodyType.Timestamp].astype(\"datetime64[ms]\")\n",
    "fig = make_subplots(\n",
    "    cols=1,\n",
    "    rows=2,\n",
    "    shared_xaxes=True,\n",
    "    subplot_titles=[\"Candles\", \"MACD\"],\n",
    "    row_heights=[0.6, 0.4],\n",
    "    vertical_spacing=0.1,\n",
    ")\n",
    "# Candlestick chart for pricing\n",
    "fig.append_trace(\n",
    "    go.Candlestick(\n",
    "        x=datetimes,\n",
    "        open=candles[:, CandleBodyType.Open],\n",
    "        high=candles[:, CandleBodyType.High],\n",
    "        low=candles[:, CandleBodyType.Low],\n",
    "        close=candles[:, CandleBodyType.Close],\n",
    "        name=\"Candles\",\n",
    "    ),\n",
    "    col=1,\n",
    "    row=1,\n",
    ")\n",
    "fig.append_trace(\n",
    "    go.Scatter(\n",
    "        x=datetimes,\n",
    "        y=ema,\n",
    "        name=\"EMA\",\n",
    "        line_color=\"yellow\",\n",
    "    ),\n",
    "    col=1,\n",
    "    row=1,\n",
    ")\n",
    "ind_shift = np.roll(histogram, 1)\n",
    "ind_shift[0] = np.nan\n",
    "colors = np.where(\n",
    "    histogram >= 0,\n",
    "    np.where(ind_shift < histogram, \"#26A69A\", \"#B2DFDB\"),\n",
    "    np.where(ind_shift < histogram, \"#FFCDD2\", \"#FF5252\"),\n",
    ")\n",
    "fig.append_trace(\n",
    "    go.Bar(\n",
    "        x=datetimes,\n",
    "        y=histogram,\n",
    "        name=\"histogram\",\n",
    "        marker_color=colors,\n",
    "    ),\n",
    "    row=2,\n",
    "    col=1,\n",
    ")\n",
    "fig.append_trace(\n",
    "    go.Scatter(\n",
    "        x=datetimes,\n",
    "        y=macd,\n",
    "        name=\"macd\",\n",
    "        line_color=\"#2962FF\",\n",
    "    ),\n",
    "    row=2,\n",
    "    col=1,\n",
    ")\n",
    "fig.append_trace(\n",
    "    go.Scatter(\n",
    "        x=datetimes,\n",
    "        y=signal,\n",
    "        name=\"signal\",\n",
    "        line_color=\"#FF6D00\",\n",
    "    ),\n",
    "    row=2,\n",
    "    col=1,\n",
    ")\n",
    "fig.append_trace(\n",
    "    go.Scatter(\n",
    "        x=datetimes,\n",
    "        y=entry_signals,\n",
    "        mode=\"markers\",\n",
    "        name=\"entries\",\n",
    "        marker=dict(\n",
    "            size=12,\n",
    "            symbol=\"circle\",\n",
    "            color=\"#00F6FF\",\n",
    "            line=dict(\n",
    "                width=1,\n",
    "                color=\"DarkSlateGrey\",\n",
    "            ),\n",
    "        ),\n",
    "    ),\n",
    "    row=2,\n",
    "    col=1,\n",
    ")\n",
    "# Update options and show plot\n",
    "fig.update_layout(height=800, xaxis_rangeslider_visible=False)\n",
    "fig.show()"
   ]
  }
 ],
 "metadata": {
  "kernelspec": {
   "display_name": "qfree",
   "language": "python",
   "name": "python3"
  },
  "language_info": {
   "codemirror_mode": {
    "name": "ipython",
    "version": 3
   },
   "file_extension": ".py",
   "mimetype": "text/x-python",
   "name": "python",
   "nbconvert_exporter": "python",
   "pygments_lexer": "ipython3",
   "version": "3.10.10"
  }
 },
 "nbformat": 4,
 "nbformat_minor": 2
}
