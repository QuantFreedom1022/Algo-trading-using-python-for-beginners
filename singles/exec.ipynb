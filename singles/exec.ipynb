{
 "cells": [
  {
   "cell_type": "code",
   "execution_count": 14,
   "metadata": {},
   "outputs": [
    {
     "name": "stdout",
     "output_type": "stream",
     "text": [
      "Sum = 15\n"
     ]
    }
   ],
   "source": [
    "program = 'a = 5\\nb=10\\nprint(\"Sum =\", a+b)'\n",
    "exec(program)"
   ]
  },
  {
   "cell_type": "code",
   "execution_count": 15,
   "metadata": {},
   "outputs": [
    {
     "name": "stdout",
     "output_type": "stream",
     "text": [
      "Sum = 15\n"
     ]
    }
   ],
   "source": [
    "exec('a = 5\\nb=10\\nprint(\"Sum =\", a+b)')"
   ]
  },
  {
   "cell_type": "code",
   "execution_count": 16,
   "metadata": {},
   "outputs": [
    {
     "name": "stdout",
     "output_type": "stream",
     "text": [
      "Sum = 15\n"
     ]
    }
   ],
   "source": [
    "exec(\"\"\"\n",
    "a = 5\n",
    "b = 10\n",
    "print(\"Sum =\", a+b)\n",
    "\"\"\")\n"
   ]
  },
  {
   "cell_type": "code",
   "execution_count": 17,
   "metadata": {},
   "outputs": [
    {
     "name": "stdout",
     "output_type": "stream",
     "text": [
      "The sum of 5 and 10 is 15\n"
     ]
    }
   ],
   "source": [
    "prog = 'print(\"The sum of 5 and 10 is\", (5+10))'\n",
    "exec(prog)"
   ]
  },
  {
   "cell_type": "code",
   "execution_count": 18,
   "metadata": {},
   "outputs": [
    {
     "name": "stdout",
     "output_type": "stream",
     "text": [
      "The sum of 5 and 10 is 15\n"
     ]
    }
   ],
   "source": [
    "print(\"The sum of 5 and 10 is\", (5+10))"
   ]
  },
  {
   "cell_type": "code",
   "execution_count": 19,
   "metadata": {},
   "outputs": [
    {
     "name": "stdout",
     "output_type": "stream",
     "text": [
      "['cher', 'melo']\n"
     ]
    }
   ],
   "source": [
    "obj = [\"apple\", \"cherry\", \"melon\", \"strawberry\"]\n",
    "code = \"print([sliced[:4] for sliced in obj if 'a' not in sliced])\"\n",
    "\n",
    "exec(code)\n"
   ]
  },
  {
   "cell_type": "code",
   "execution_count": 20,
   "metadata": {},
   "outputs": [
    {
     "name": "stdout",
     "output_type": "stream",
     "text": [
      "The square of 5: 25\n"
     ]
    }
   ],
   "source": [
    "exec(\"square = int(input('Enter the number: '))\\nprint(f'The square of {square}:', square**2)\")"
   ]
  },
  {
   "cell_type": "code",
   "execution_count": 21,
   "metadata": {},
   "outputs": [
    {
     "name": "stdout",
     "output_type": "stream",
     "text": [
      "Original values: [4, 7, 2, 9, 44]\n",
      "Square of even number: [16, 4, 1936]\n",
      "Odd number: [7, 9]\n"
     ]
    }
   ],
   "source": [
    "sample_code = \"\"\"\n",
    "\n",
    "integers = [4, 7, 2, 9, 44]\n",
    "\n",
    "def square(num):\n",
    "    return num ** 2\n",
    "\n",
    "def odd_num(num):\n",
    "    return num % 2 == 1\n",
    "\n",
    "square_if_even = [square(number) for number in integers if number % 2 == 0]\n",
    "\n",
    "odd_number = [number for number in integers if odd_num(number)]\n",
    "\n",
    "print(\"Original values:\", integers)\n",
    "\n",
    "print(\"Square of even number:\", square_if_even)\n",
    "\n",
    "print(\"Odd number:\", odd_number)\n",
    "\n",
    "\"\"\"\n",
    "exec(sample_code)"
   ]
  },
  {
   "cell_type": "code",
   "execution_count": 31,
   "metadata": {},
   "outputs": [
    {
     "name": "stdout",
     "output_type": "stream",
     "text": [
      "1\n",
      "2\n",
      "3\n"
     ]
    }
   ],
   "source": [
    "# get an entire program as input\n",
    "program = input('Enter a program:')\n",
    "\n",
    "# execute the program\n",
    "exec(program)\n",
    "\n",
    "# [print(item) for item in [1, 2, 3]]"
   ]
  },
  {
   "cell_type": "code",
   "execution_count": 25,
   "metadata": {},
   "outputs": [
    {
     "name": "stdout",
     "output_type": "stream",
     "text": [
      "['In', 'Out', '_', '_24', '__', '___', '__builtin__', '__builtins__', '__doc__', '__loader__', '__name__', '__package__', '__spec__', '__vsc_ipynb_file__', '_dh', '_i', '_i1', '_i10', '_i11', '_i12', '_i13', '_i14', '_i15', '_i16', '_i17', '_i18', '_i19', '_i2', '_i20', '_i21', '_i22', '_i23', '_i24', '_i25', '_i3', '_i4', '_i5', '_i6', '_i7', '_i8', '_i9', '_ih', '_ii', '_iii', '_oh', 'a', 'acos', 'acosh', 'asin', 'asinh', 'atan', 'atan2', 'atanh', 'b', 'cbrt', 'ceil', 'code', 'comb', 'copysign', 'cos', 'cosh', 'degrees', 'dist', 'e', 'erf', 'erfc', 'exit', 'exp', 'exp2', 'expm1', 'fabs', 'factorial', 'floor', 'fmod', 'frexp', 'fsum', 'gamma', 'gcd', 'get_ipython', 'globalsParameter', 'globals_param', 'hypot', 'inf', 'integers', 'isclose', 'isfinite', 'isinf', 'isnan', 'isqrt', 'lcm', 'ldexp', 'lgamma', 'localsParameter', 'locals_param', 'log', 'log10', 'log1p', 'log2', 'modf', 'nan', 'nextafter', 'obj', 'odd_num', 'odd_number', 'open', 'out', 'perm', 'pi', 'pow', 'prod', 'prog', 'program', 'quit', 'radians', 'remainder', 'sample_code', 'sin', 'sinh', 'sqrt', 'square', 'square_if_even', 'str1', 'str2', 'sumprod', 'tan', 'tanh', 'tau', 'trunc', 'ulp', 'warnings']\n"
     ]
    }
   ],
   "source": [
    "# import all the methods from math library\n",
    "from math import *\n",
    "\n",
    "# check the usable methods  \n",
    "exec('print(dir())')"
   ]
  },
  {
   "cell_type": "code",
   "execution_count": 32,
   "metadata": {},
   "outputs": [
    {
     "name": "stdout",
     "output_type": "stream",
     "text": [
      "['__builtins__']\n"
     ]
    }
   ],
   "source": [
    "# Here we have passed an empty dictionary\n",
    "from math import *\n",
    "\n",
    "exec(\"print(dir())\", {})"
   ]
  },
  {
   "cell_type": "code",
   "execution_count": 34,
   "metadata": {},
   "outputs": [
    {
     "name": "stdout",
     "output_type": "stream",
     "text": [
      "['dir', 'print']\n"
     ]
    }
   ],
   "source": [
    "# https://www.programiz.com/python-programming/methods/built-in/exec\n",
    "from math import *\n",
    "\n",
    "# set globals parameter to none\n",
    "globalsParameter = {'__builtins__' : None}\n",
    "\n",
    "# set locals parameter to take only print() and dir()\n",
    "localsParameter = {'print': print, 'dir': dir}\n",
    "\n",
    "# print the accessible method directory\n",
    "exec('print(dir())', globalsParameter, localsParameter)"
   ]
  },
  {
   "cell_type": "code",
   "execution_count": 35,
   "metadata": {},
   "outputs": [
    {
     "name": "stdout",
     "output_type": "stream",
     "text": [
      "['iter', 'sum']\n"
     ]
    }
   ],
   "source": [
    "from math import *\n",
    "exec(\"print(dir())\", {\"built\" : __builtins__}, {\"sum\": sum, \"iter\": iter})"
   ]
  },
  {
   "cell_type": "code",
   "execution_count": 36,
   "metadata": {},
   "outputs": [
    {
     "name": "stdout",
     "output_type": "stream",
     "text": [
      "Hello\n"
     ]
    }
   ],
   "source": [
    "code = \"\"\"\n",
    "out = str1 + str2\n",
    "print(out)\n",
    "\"\"\"\n",
    "# global variables\n",
    "str1 = \"Hel\"\n",
    "str2 = \"lo\"\n",
    "\n",
    "exec(code)"
   ]
  },
  {
   "cell_type": "code",
   "execution_count": 37,
   "metadata": {},
   "outputs": [
    {
     "name": "stdout",
     "output_type": "stream",
     "text": [
      "['dir', 'print', 'slice', 'sum']\n",
      "Sum of numbers: 17\n"
     ]
    }
   ],
   "source": [
    "# Setting globals parameter to none\n",
    "globals_param = {\"__builtins__\": None}\n",
    "\n",
    "# Setting locals parameter to take only print(), slice(), sum() and dir()\n",
    "locals_param = {\"print\": print, \"dir\": dir, \"slice\": slice, \"sum\": sum}\n",
    "\n",
    "# Allowed methods directory\n",
    "exec(\"print(dir())\", globals_param, locals_param)\n",
    "exec('print(f\"Sum of numbers: {sum([4, 6, 7])}\")', globals_param, locals_param)"
   ]
  }
 ],
 "metadata": {
  "kernelspec": {
   "display_name": "qfree_3_12_4",
   "language": "python",
   "name": "python3"
  },
  "language_info": {
   "codemirror_mode": {
    "name": "ipython",
    "version": 3
   },
   "file_extension": ".py",
   "mimetype": "text/x-python",
   "name": "python",
   "nbconvert_exporter": "python",
   "pygments_lexer": "ipython3",
   "version": "3.12.4"
  }
 },
 "nbformat": 4,
 "nbformat_minor": 2
}
