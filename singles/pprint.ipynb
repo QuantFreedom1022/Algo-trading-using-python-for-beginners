{
 "cells": [
  {
   "cell_type": "code",
   "execution_count": 1,
   "metadata": {},
   "outputs": [],
   "source": [
    "# https://note.nkmk.me/en/python-pprint-pretty-print/\n",
    "# https://docs.python.org/3/library/pprint.html"
   ]
  },
  {
   "cell_type": "code",
   "execution_count": 2,
   "metadata": {},
   "outputs": [],
   "source": [
    "from pprint import pprint, PrettyPrinter, pformat"
   ]
  },
  {
   "cell_type": "code",
   "execution_count": 3,
   "metadata": {},
   "outputs": [],
   "source": [
    "sample_dict = {\n",
    "    'name': 'Sion',\n",
    "    'age': 21,\n",
    "    'message': 'Thank you for reading this article!',\n",
    "    'topic':'Python Libraries'\n",
    "}"
   ]
  },
  {
   "cell_type": "code",
   "execution_count": 4,
   "metadata": {},
   "outputs": [
    {
     "name": "stdout",
     "output_type": "stream",
     "text": [
      "{'age': 21,\n",
      " 'message': 'Thank you for reading this article!',\n",
      " 'name': 'Sion',\n",
      " 'topic': 'Python Libraries'}\n"
     ]
    }
   ],
   "source": [
    "pprint(sample_dict)\n"
   ]
  },
  {
   "cell_type": "code",
   "execution_count": 5,
   "metadata": {},
   "outputs": [
    {
     "name": "stdout",
     "output_type": "stream",
     "text": [
      "{'age': 21,\n",
      " 'message': 'Thank you for '\n",
      "            'reading this '\n",
      "            'article!',\n",
      " 'name': 'Sion',\n",
      " 'topic': 'Python Libraries'}\n"
     ]
    }
   ],
   "source": [
    "pprint(sample_dict, width = 30)"
   ]
  },
  {
   "cell_type": "code",
   "execution_count": 6,
   "metadata": {},
   "outputs": [
    {
     "name": "stdout",
     "output_type": "stream",
     "text": [
      "{         'age': 21,\n",
      "          'message': 'Thank '\n",
      "                     'you '\n",
      "                     'for '\n",
      "                     'reading '\n",
      "                     'this '\n",
      "                     'article!',\n",
      "          'name': 'Sion',\n",
      "          'topic': 'Python '\n",
      "                   'Libraries'}\n"
     ]
    }
   ],
   "source": [
    "pprint(sample_dict, width = 30, indent = 10)\n"
   ]
  },
  {
   "cell_type": "code",
   "execution_count": 7,
   "metadata": {},
   "outputs": [
    {
     "name": "stdout",
     "output_type": "stream",
     "text": [
      "[   ['spam', 'eggs', 'lumberjack', 'knights', 'ni'],\n",
      "    'spam',\n",
      "    'eggs',\n",
      "    'lumberjack',\n",
      "    'knights',\n",
      "    'ni']\n"
     ]
    }
   ],
   "source": [
    "stuff = ['spam', 'eggs', 'lumberjack', 'knights', 'ni']\n",
    "stuff.insert(0, stuff[:])\n",
    "pp = PrettyPrinter(indent=4)\n",
    "pp.pprint(stuff)"
   ]
  },
  {
   "cell_type": "code",
   "execution_count": 8,
   "metadata": {},
   "outputs": [
    {
     "name": "stdout",
     "output_type": "stream",
     "text": [
      "[['spam', 'eggs', 'lumberjack',\n",
      "  'knights', 'ni'],\n",
      " 'spam', 'eggs', 'lumberjack', 'knights',\n",
      " 'ni']\n"
     ]
    }
   ],
   "source": [
    "pp = PrettyPrinter(width=41, compact=True)\n",
    "pp.pprint(stuff)"
   ]
  },
  {
   "cell_type": "code",
   "execution_count": 9,
   "metadata": {},
   "outputs": [],
   "source": [
    "sample_tuple = (\"spam\", (\"eggs\", (\"lumberjack\", (\"knights\", (\"ni\", (\"dead\", (\"parrot\", (\"fresh fruit\",))))))))"
   ]
  },
  {
   "cell_type": "code",
   "execution_count": 10,
   "metadata": {},
   "outputs": [
    {
     "name": "stdout",
     "output_type": "stream",
     "text": [
      "('spam', ('eggs', ('lumberjack', ('knights', ('ni', ('dead', ('parrot', ('fresh fruit',))))))))\n"
     ]
    }
   ],
   "source": [
    "print(sample_tuple)\n"
   ]
  },
  {
   "cell_type": "code",
   "execution_count": 11,
   "metadata": {},
   "outputs": [
    {
     "name": "stdout",
     "output_type": "stream",
     "text": [
      "('spam', (...))\n"
     ]
    }
   ],
   "source": [
    "pprint(sample_tuple, depth=1)"
   ]
  },
  {
   "cell_type": "code",
   "execution_count": 12,
   "metadata": {},
   "outputs": [
    {
     "name": "stdout",
     "output_type": "stream",
     "text": [
      "('spam', ('eggs', ('lumberjack', (...))))\n"
     ]
    }
   ],
   "source": [
    "pprint(sample_tuple, depth=3, compact=True)"
   ]
  },
  {
   "cell_type": "code",
   "execution_count": 13,
   "metadata": {},
   "outputs": [
    {
     "name": "stdout",
     "output_type": "stream",
     "text": [
      "[{...}, {...}, {...}]\n"
     ]
    }
   ],
   "source": [
    "coordinates = [\n",
    "    {\"name\": \"Location 1\", \"gps\": (29.008966, 111.573724)},\n",
    "    {\"name\": \"Location 2\", \"gps\": (40.1632626, 44.2935926)},\n",
    "    {\"name\": \"Location 3\", \"gps\": (29.476705, 121.869339)},\n",
    "]\n",
    "pprint(coordinates, depth=1)"
   ]
  },
  {
   "cell_type": "code",
   "execution_count": 14,
   "metadata": {},
   "outputs": [
    {
     "name": "stdout",
     "output_type": "stream",
     "text": [
      "[{'gps': (29.008966, 111.573724), 'name': 'Location 1'},\n",
      " {'gps': (40.1632626, 44.2935926), 'name': 'Location 2'},\n",
      " {'gps': (29.476705, 121.869339), 'name': 'Location 3'}]\n"
     ]
    }
   ],
   "source": [
    "pprint(coordinates)"
   ]
  },
  {
   "cell_type": "code",
   "execution_count": 15,
   "metadata": {},
   "outputs": [
    {
     "name": "stdout",
     "output_type": "stream",
     "text": [
      "[ {'gps': (...), 'name': 'Location 1'},\n",
      "  {'gps': (...), 'name': 'Location 2'},\n",
      "  {'gps': (...), 'name': 'Location 3'}]\n",
      "[ { 'gps': (29.008966, 111.573724),\n",
      "    'name': 'Location 1'},\n",
      "  { 'gps': (40.1632626, 44.2935926),\n",
      "    'name': 'Location 2'},\n",
      "  { 'gps': (29.476705, 121.869339),\n",
      "    'name': 'Location 3'}]\n"
     ]
    }
   ],
   "source": [
    "pprint(coordinates, depth=2, width=50, indent=2, compact=True)\n",
    "pprint(coordinates, width=50, indent=2)"
   ]
  },
  {
   "cell_type": "code",
   "execution_count": 16,
   "metadata": {},
   "outputs": [
    {
     "name": "stdout",
     "output_type": "stream",
     "text": [
      "[(0, {'a': 'A', 'b': 'B', 'c': 'C', 'd': 'D', 'e': 'E', 'f': 'F', 'g': 'G', 'h': 'H'}), (1, {'a': 'A', 'b': 'B', 'c': 'C', 'd': 'D', 'e': 'E', 'f': 'F', 'g': 'G', 'h': 'H'}), (2, {'a': 'A', 'b': 'B', 'c': 'C', 'd': 'D', 'e': 'E', 'f': 'F', 'g': 'G', 'h': 'H'})]\n",
      "[(0,\n",
      "  {'a': 'A',\n",
      "   'b': 'B',\n",
      "   'c': 'C',\n",
      "   'd': 'D',\n",
      "   'e': 'E',\n",
      "   'f': 'F',\n",
      "   'g': 'G',\n",
      "   'h': 'H'}),\n",
      " (1,\n",
      "  {'a': 'A',\n",
      "   'b': 'B',\n",
      "   'c': 'C',\n",
      "   'd': 'D',\n",
      "   'e': 'E',\n",
      "   'f': 'F',\n",
      "   'g': 'G',\n",
      "   'h': 'H'}),\n",
      " (2,\n",
      "  {'a': 'A',\n",
      "   'b': 'B',\n",
      "   'c': 'C',\n",
      "   'd': 'D',\n",
      "   'e': 'E',\n",
      "   'f': 'F',\n",
      "   'g': 'G',\n",
      "   'h': 'H'})]\n"
     ]
    }
   ],
   "source": [
    "data = [\n",
    "    (\n",
    "        i,\n",
    "        {\n",
    "            \"a\": \"A\",\n",
    "            \"b\": \"B\",\n",
    "            \"c\": \"C\",\n",
    "            \"d\": \"D\",\n",
    "            \"e\": \"E\",\n",
    "            \"f\": \"F\",\n",
    "            \"g\": \"G\",\n",
    "            \"h\": \"H\",\n",
    "        },\n",
    "    )\n",
    "    for i in range(3)\n",
    "]\n",
    "print(data)\n",
    "pprint(data)"
   ]
  },
  {
   "cell_type": "code",
   "execution_count": 17,
   "metadata": {},
   "outputs": [],
   "source": [
    "l = [{'Name': 'Alice XXX', 'Age': 40, 'Points': [80, 20]}, \n",
    "     {'Name': 'Bob YYY', 'Age': 20, 'Points': [90, 10]},\n",
    "     {'Name': 'Charlie ZZZ', 'Age': 30, 'Points': [70, 30]}]"
   ]
  },
  {
   "cell_type": "code",
   "execution_count": 18,
   "metadata": {},
   "outputs": [
    {
     "name": "stdout",
     "output_type": "stream",
     "text": [
      "[{'Age': 40, 'Name': 'Alice XXX', 'Points': [80, 20]},\n",
      " {'Age': 20, 'Name': 'Bob YYY', 'Points': [90, 10]},\n",
      " {'Age': 30, 'Name': 'Charlie ZZZ', 'Points': [70, 30]}]\n"
     ]
    }
   ],
   "source": [
    "pprint(l)"
   ]
  },
  {
   "cell_type": "code",
   "execution_count": 19,
   "metadata": {},
   "outputs": [
    {
     "name": "stdout",
     "output_type": "stream",
     "text": [
      "[{'Age': 40,\n",
      "  'Name': 'Alice XXX',\n",
      "  'Points': [80, 20]},\n",
      " {'Age': 20,\n",
      "  'Name': 'Bob YYY',\n",
      "  'Points': [90, 10]},\n",
      " {'Age': 30,\n",
      "  'Name': 'Charlie ZZZ',\n",
      "  'Points': [70, 30]}]\n"
     ]
    }
   ],
   "source": [
    "pprint(l, width=40)"
   ]
  },
  {
   "cell_type": "code",
   "execution_count": 20,
   "metadata": {},
   "outputs": [
    {
     "name": "stdout",
     "output_type": "stream",
     "text": [
      "[{'Age': 40, 'Name': 'Alice XXX', 'Points': [80, 20]}, {'Age': 20, 'Name': 'Bob YYY', 'Points': [90, 10]}, {'Age': 30, 'Name': 'Charlie ZZZ', 'Points': [70, 30]}]\n"
     ]
    }
   ],
   "source": [
    "pprint(l, width=200)"
   ]
  },
  {
   "cell_type": "code",
   "execution_count": 21,
   "metadata": {},
   "outputs": [
    {
     "name": "stdout",
     "output_type": "stream",
     "text": [
      "[{'Age': 40,\n",
      "  'Name': 'Alice '\n",
      "          'XXX',\n",
      "  'Points': [80,\n",
      "             20]},\n",
      " {'Age': 20,\n",
      "  'Name': 'Bob '\n",
      "          'YYY',\n",
      "  'Points': [90,\n",
      "             10]},\n",
      " {'Age': 30,\n",
      "  'Name': 'Charlie '\n",
      "          'ZZZ',\n",
      "  'Points': [70,\n",
      "             30]}]\n"
     ]
    }
   ],
   "source": [
    "pprint(l, width=1)"
   ]
  },
  {
   "cell_type": "code",
   "execution_count": 22,
   "metadata": {},
   "outputs": [
    {
     "name": "stdout",
     "output_type": "stream",
     "text": [
      "[{...}, {...}, {...}]\n"
     ]
    }
   ],
   "source": [
    "pprint(l, depth=1)"
   ]
  },
  {
   "cell_type": "code",
   "execution_count": 23,
   "metadata": {},
   "outputs": [
    {
     "name": "stdout",
     "output_type": "stream",
     "text": [
      "[{'Age': 40, 'Name': 'Alice XXX', 'Points': [...]},\n",
      " {'Age': 20, 'Name': 'Bob YYY', 'Points': [...]},\n",
      " {'Age': 30, 'Name': 'Charlie ZZZ', 'Points': [...]}]\n"
     ]
    }
   ],
   "source": [
    "pprint(l, depth=2)"
   ]
  },
  {
   "cell_type": "code",
   "execution_count": 24,
   "metadata": {},
   "outputs": [
    {
     "name": "stdout",
     "output_type": "stream",
     "text": [
      "[   {   'Age': 40,\n",
      "        'Name': 'Alice '\n",
      "                'XXX',\n",
      "        'Points': [   80,\n",
      "                      20]},\n",
      "    {   'Age': 20,\n",
      "        'Name': 'Bob '\n",
      "                'YYY',\n",
      "        'Points': [   90,\n",
      "                      10]},\n",
      "    {   'Age': 30,\n",
      "        'Name': 'Charlie '\n",
      "                'ZZZ',\n",
      "        'Points': [   70,\n",
      "                      30]}]\n"
     ]
    }
   ],
   "source": [
    "pprint(l, indent=4, width=4)"
   ]
  },
  {
   "cell_type": "code",
   "execution_count": 25,
   "metadata": {},
   "outputs": [],
   "source": [
    "l_long = [list(range(10)), list(range(100, 110))]"
   ]
  },
  {
   "cell_type": "code",
   "execution_count": 26,
   "metadata": {},
   "outputs": [
    {
     "name": "stdout",
     "output_type": "stream",
     "text": [
      "[[0, 1, 2, 3, 4, 5, 6, 7, 8, 9],\n",
      " [100,\n",
      "  101,\n",
      "  102,\n",
      "  103,\n",
      "  104,\n",
      "  105,\n",
      "  106,\n",
      "  107,\n",
      "  108,\n",
      "  109]]\n"
     ]
    }
   ],
   "source": [
    "pprint(l_long, width=40)"
   ]
  },
  {
   "cell_type": "code",
   "execution_count": 27,
   "metadata": {},
   "outputs": [
    {
     "name": "stdout",
     "output_type": "stream",
     "text": [
      "[[0, 1, 2, 3, 4, 5, 6, 7, 8, 9],\n",
      " [100, 101, 102, 103, 104, 105, 106,\n",
      "  107, 108, 109]]\n"
     ]
    }
   ],
   "source": [
    "pprint(l_long, width=40, compact=True)"
   ]
  },
  {
   "cell_type": "code",
   "execution_count": 28,
   "metadata": {},
   "outputs": [],
   "source": [
    "s_normal = str(l)"
   ]
  },
  {
   "cell_type": "code",
   "execution_count": 29,
   "metadata": {},
   "outputs": [
    {
     "name": "stdout",
     "output_type": "stream",
     "text": [
      "[{'Age': 40, 'Name': 'Alice XXX', 'Points': [80, 20]},\n",
      " {'Age': 20, 'Name': 'Bob YYY', 'Points': [90, 10]},\n",
      " {'Age': 30, 'Name': 'Charlie ZZZ', 'Points': [70, 30]}]\n"
     ]
    }
   ],
   "source": [
    "s_pp = pformat(l)\n",
    "print(s_pp)"
   ]
  },
  {
   "cell_type": "code",
   "execution_count": 30,
   "metadata": {},
   "outputs": [
    {
     "name": "stdout",
     "output_type": "stream",
     "text": [
      "[ { 'Age': 40,\n",
      "    'Name': 'Alice XXX',\n",
      "    'Points': [...]},\n",
      "  { 'Age': 20,\n",
      "    'Name': 'Bob YYY',\n",
      "    'Points': [...]},\n",
      "  { 'Age': 30,\n",
      "    'Name': 'Charlie ZZZ',\n",
      "    'Points': [...]}]\n"
     ]
    }
   ],
   "source": [
    "s_pp = pformat(l, depth=2, width=40, indent=2)\n",
    "print(s_pp)"
   ]
  },
  {
   "cell_type": "code",
   "execution_count": 31,
   "metadata": {},
   "outputs": [],
   "source": [
    "l_2d = [list(range(10)), list(range(10)), list(range(10))]"
   ]
  },
  {
   "cell_type": "code",
   "execution_count": 32,
   "metadata": {},
   "outputs": [
    {
     "name": "stdout",
     "output_type": "stream",
     "text": [
      "[[0, 1, 2, 3, 4, 5, 6, 7, 8, 9],\n",
      " [0, 1, 2, 3, 4, 5, 6, 7, 8, 9],\n",
      " [0, 1, 2, 3, 4, 5, 6, 7, 8, 9]]\n"
     ]
    }
   ],
   "source": [
    "pprint(l_2d)"
   ]
  },
  {
   "cell_type": "code",
   "execution_count": 33,
   "metadata": {},
   "outputs": [
    {
     "name": "stdout",
     "output_type": "stream",
     "text": [
      "{ 'Dept': [ 'IT',\n",
      "            'Operations',\n",
      "            'IT',\n",
      "            'HR',\n",
      "            'Finance',\n",
      "            'IT',\n",
      "            'Operations',\n",
      "            'Finance'],\n",
      "  'Name': ['Rick', 'Dan', 'Michelle', 'Ryan', 'Gary', 'Nina', 'Simon', 'Guru'],\n",
      "  'Salary': ['623.3', '515.2', '611', '729', '843.25', '578', '632.8', '722.5'],\n",
      "  'StartDate': [ '1/1/2012',\n",
      "                 '9/23/2013',\n",
      "                 '11/15/2014',\n",
      "                 '5/11/2014',\n",
      "                 '3/27/2015',\n",
      "                 '5/21/2013',\n",
      "                 '7/30/2013',\n",
      "                 '6/17/2014']}\n"
     ]
    }
   ],
   "source": [
    "emp = {\"Name\":[\"Rick\",\"Dan\",\"Michelle\",\"Ryan\",\"Gary\",\"Nina\",\"Simon\",\"Guru\" ],\n",
    "   \"Salary\":[\"623.3\",\"515.2\",\"611\",\"729\",\"843.25\",\"578\",\"632.8\",\"722.5\" ],   \n",
    "   \"StartDate\":[ \"1/1/2012\",\"9/23/2013\",\"11/15/2014\",\"5/11/2014\",\"3/27/2015\",\"5/21/2013\",\n",
    "      \"7/30/2013\",\"6/17/2014\"],\n",
    "   \"Dept\":[ \"IT\",\"Operations\",\"IT\",\"HR\",\"Finance\",\"IT\",\"Operations\",\"Finance\"] }\n",
    "\n",
    "x= pformat(emp, indent=2)\n",
    "print(x)"
   ]
  }
 ],
 "metadata": {
  "kernelspec": {
   "display_name": "qfree_3_12_4",
   "language": "python",
   "name": "python3"
  },
  "language_info": {
   "codemirror_mode": {
    "name": "ipython",
    "version": 3
   },
   "file_extension": ".py",
   "mimetype": "text/x-python",
   "name": "python",
   "nbconvert_exporter": "python",
   "pygments_lexer": "ipython3",
   "version": "3.12.4"
  }
 },
 "nbformat": 4,
 "nbformat_minor": 2
}
