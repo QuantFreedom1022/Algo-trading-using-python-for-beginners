{
 "cells": [
  {
   "cell_type": "code",
   "execution_count": null,
   "metadata": {},
   "outputs": [],
   "source": [
    "from functools import partial"
   ]
  },
  {
   "cell_type": "code",
   "execution_count": null,
   "metadata": {},
   "outputs": [],
   "source": [
    "# A normal function\n",
    "def f(a, b, c, x):\n",
    "    return 1000*a + 100*b + 10*c + x\n",
    " \n",
    "# A partial function that calls f with\n",
    "# a as 3, b as 1 and c as 4.\n",
    "g = partial(f, 3, 1, 4)\n",
    " \n",
    "# Calling g()\n",
    "print(g(5))\n",
    "print(g(2))\n",
    "print(g(1))"
   ]
  },
  {
   "cell_type": "code",
   "execution_count": null,
   "metadata": {},
   "outputs": [],
   "source": [
    " \n",
    "# A normal function\n",
    "def add(a, b, c):\n",
    "    return 100 * a + 10 * b + c\n",
    " \n",
    "# A partial function with b = 1 and c = 2\n",
    "add_part = partial(add, c = 2, b = 1)\n",
    " \n",
    "# Calling partial function\n",
    "print(add_part(3))\n",
    "print(add_part(4))"
   ]
  },
  {
   "cell_type": "code",
   "execution_count": null,
   "metadata": {},
   "outputs": [],
   "source": [
    "from_bin = partial(int, base=2)\n",
    "from_bin(\"1100011\")"
   ]
  },
  {
   "cell_type": "code",
   "execution_count": null,
   "metadata": {},
   "outputs": [],
   "source": [
    "from_hex = partial(int, base=16)\n",
    "from_hex(\"63\")"
   ]
  },
  {
   "cell_type": "code",
   "execution_count": null,
   "metadata": {},
   "outputs": [],
   "source": [
    "from_bin = partial(int, base=10)\n",
    "from_bin(\"1100011\")"
   ]
  },
  {
   "cell_type": "code",
   "execution_count": null,
   "metadata": {},
   "outputs": [],
   "source": [
    "def foo(a, b, *, c, d=10):\n",
    "    print(a, b, c, d)\n",
    "bar = partial(foo, 1)\n",
    "bar(20, c=30, d=40)\n",
    "bar(10, c=50, d=7)"
   ]
  },
  {
   "cell_type": "code",
   "execution_count": null,
   "metadata": {},
   "outputs": [],
   "source": [
    "foo_no_d = partial(foo, d=999)\n",
    "foo_no_d(1, 2, c=3)\n",
    "foo_no_d(8, 6, c=3)"
   ]
  },
  {
   "cell_type": "code",
   "execution_count": null,
   "metadata": {},
   "outputs": [],
   "source": [
    "foo_no_d(1, 2, c=3, d=4)"
   ]
  },
  {
   "cell_type": "code",
   "execution_count": null,
   "metadata": {},
   "outputs": [],
   "source": [
    "foo_no_b = partial(foo, b=999)\n",
    "\n",
    "foo_no_b(1, c=3, d=4)\n"
   ]
  },
  {
   "cell_type": "code",
   "execution_count": null,
   "metadata": {},
   "outputs": [],
   "source": [
    "def print_msg(name, message):\n",
    "    msg = str(name) +\", \"+ str(message)\n",
    "    return msg\n",
    "#Partial function   \n",
    "welcome = partial(print_msg, message='Welcome to the Team!') #setting the welcome message\n",
    "holidays = partial(print_msg, message='Happy Holidays!')\n",
    "# Calling Partial function\n",
    "print(welcome('Sourish'))\n",
    "print(welcome('Max'))\n",
    "print(holidays('Shubhrima'))\n",
    "print(holidays('Justin'))"
   ]
  },
  {
   "cell_type": "code",
   "execution_count": null,
   "metadata": {},
   "outputs": [],
   "source": [
    "john = partial(print_msg, name='John')\n",
    "lisa = partial(print_msg, name='Lisa')\n",
    "print(john(message='Hello'))\n",
    "print(john(message='mark hates you'))\n",
    "print(lisa(message='will you marry john'))\n",
    "print(lisa(message='likes python'))"
   ]
  }
 ],
 "metadata": {
  "kernelspec": {
   "display_name": "qfree_3_12_4",
   "language": "python",
   "name": "python3"
  },
  "language_info": {
   "codemirror_mode": {
    "name": "ipython",
    "version": 3
   },
   "file_extension": ".py",
   "mimetype": "text/x-python",
   "name": "python",
   "nbconvert_exporter": "python",
   "pygments_lexer": "ipython3",
   "version": "3.12.4"
  }
 },
 "nbformat": 4,
 "nbformat_minor": 2
}
