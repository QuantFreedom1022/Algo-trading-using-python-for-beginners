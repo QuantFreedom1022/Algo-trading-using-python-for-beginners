{
 "cells": [
  {
   "cell_type": "code",
   "execution_count": 1,
   "metadata": {},
   "outputs": [],
   "source": [
    "import numpy as np\n",
    "import plotly.graph_objects as go\n",
    "from datetime import datetime\n",
    "from quantfreedom.enums import CandleBodyType\n",
    "from quantfreedom.helper_funcs import dl_ex_candles\n",
    "from quantfreedom.indicators.tv_indicators import sma_tv\n",
    "\n",
    "np.set_printoptions(formatter={\"float_kind\": \"{:0.2f}\".format})\n",
    "\n",
    "%load_ext autoreload\n",
    "%autoreload 2"
   ]
  },
  {
   "cell_type": "code",
   "execution_count": 2,
   "metadata": {},
   "outputs": [],
   "source": [
    "candles = dl_ex_candles(\n",
    "    exchange=\"binance_us\",\n",
    "    symbol='BTCUSDT',\n",
    "    timeframe='30m',\n",
    "    candles_to_dl=1500,\n",
    ")"
   ]
  },
  {
   "cell_type": "code",
   "execution_count": 3,
   "metadata": {},
   "outputs": [],
   "source": [
    "timestamp = candles[:, CandleBodyType.Timestamp]\n",
    "datetimes = timestamp.astype(\"datetime64[ms]\")\n",
    "open = candles[:, CandleBodyType.Open]\n",
    "high = candles[:, CandleBodyType.High]\n",
    "low = candles[:, CandleBodyType.Low]\n",
    "close = candles[:, CandleBodyType.Close]"
   ]
  },
  {
   "cell_type": "code",
   "execution_count": 4,
   "metadata": {},
   "outputs": [],
   "source": [
    "sma_fast = sma_tv(source=close, length=20)\n",
    "sma_slow = sma_tv(source=close, length=60)"
   ]
  },
  {
   "cell_type": "code",
   "execution_count": 5,
   "metadata": {},
   "outputs": [],
   "source": [
    "prev_sma_fast = np.roll(sma_fast, 1)\n",
    "prev_sma_fast[0] = np.nan\n",
    "prev_sma_slow = np.roll(sma_slow, 1)\n",
    "prev_sma_slow[0] = np.nan"
   ]
  },
  {
   "cell_type": "code",
   "execution_count": 6,
   "metadata": {},
   "outputs": [
    {
     "data": {
      "text/plain": [
       "array([False, False, False, ..., False, False, False])"
      ]
     },
     "execution_count": 6,
     "metadata": {},
     "output_type": "execute_result"
    }
   ],
   "source": [
    "(prev_sma_fast < prev_sma_slow) & (sma_fast > sma_slow)"
   ]
  },
  {
   "cell_type": "code",
   "execution_count": 7,
   "metadata": {},
   "outputs": [],
   "source": [
    "entries = (prev_sma_fast < prev_sma_slow) & (sma_fast > sma_slow)\n",
    "cross_above_signal = np.where(entries, sma_fast, np.nan)"
   ]
  },
  {
   "cell_type": "code",
   "execution_count": 8,
   "metadata": {},
   "outputs": [
    {
     "data": {
      "text/plain": [
       "array([False, False, False, ..., False, False, False])"
      ]
     },
     "execution_count": 8,
     "metadata": {},
     "output_type": "execute_result"
    }
   ],
   "source": [
    "(prev_sma_fast > prev_sma_slow) & (sma_fast < sma_slow)"
   ]
  },
  {
   "cell_type": "code",
   "execution_count": 9,
   "metadata": {},
   "outputs": [],
   "source": [
    "exits = (prev_sma_fast > prev_sma_slow) & (sma_fast < sma_slow)\n",
    "cross_below_signal = np.where(exits, sma_fast, np.nan)\n",
    "exit_prices = np.roll(np.where(exits, close, np.nan), 1)\n",
    "exit_prices[0] = np.nan"
   ]
  },
  {
   "cell_type": "code",
   "execution_count": 14,
   "metadata": {},
   "outputs": [
    {
     "data": {
      "text/plain": [
       "()"
      ]
     },
     "execution_count": 14,
     "metadata": {},
     "output_type": "execute_result"
    }
   ],
   "source": [
    "go.Figure(\n",
    "    data=[\n",
    "        go.Candlestick(\n",
    "            x=datetimes,\n",
    "            open=open,\n",
    "            high=high,\n",
    "            low=low,\n",
    "            close=close,\n",
    "            name=\"Candles\",\n",
    "        ),\n",
    "        go.Scatter(\n",
    "            x=datetimes,\n",
    "            y=sma_fast,\n",
    "            name=\"SMA Fast\",\n",
    "            line_color=\"lightblue\",\n",
    "        ),\n",
    "        go.Scatter(\n",
    "            x=datetimes,\n",
    "            y=sma_slow,\n",
    "            name=\"SMA Slow\",\n",
    "            line_color=\"yellow\",\n",
    "        ),\n",
    "        go.Scatter(\n",
    "            x=datetimes,\n",
    "            y=cross_above_signal,\n",
    "            mode=\"markers\",\n",
    "            name=\"Entries\",\n",
    "            marker=dict(\n",
    "                size=15,\n",
    "                symbol=\"circle\",\n",
    "                color=\"#00F6FF\",\n",
    "                line=dict(\n",
    "                    width=1,\n",
    "                    color=\"DarkSlateGrey\",\n",
    "                ),\n",
    "            ),\n",
    "        ),\n",
    "        go.Scatter(\n",
    "            x=datetimes,\n",
    "            y=cross_below_signal,\n",
    "            mode=\"markers\",\n",
    "            name=\"Exits\",\n",
    "            marker=dict(\n",
    "                size=15,\n",
    "                symbol=\"triangle-up\",\n",
    "                color=\"#FF7B00\",\n",
    "                line=dict(\n",
    "                    width=1,\n",
    "                    color=\"DarkSlateGrey\",\n",
    "                ),\n",
    "            ),\n",
    "        ),\n",
    "    ]\n",
    ").update_layout(height=800, xaxis_rangeslider_visible=False)"
   ]
  }
 ],
 "metadata": {
  "kernelspec": {
   "display_name": "qfree",
   "language": "python",
   "name": "python3"
  },
  "language_info": {
   "codemirror_mode": {
    "name": "ipython",
    "version": 3
   },
   "file_extension": ".py",
   "mimetype": "text/x-python",
   "name": "python",
   "nbconvert_exporter": "python",
   "pygments_lexer": "ipython3",
   "version": "3.10.10"
  }
 },
 "nbformat": 4,
 "nbformat_minor": 2
}
