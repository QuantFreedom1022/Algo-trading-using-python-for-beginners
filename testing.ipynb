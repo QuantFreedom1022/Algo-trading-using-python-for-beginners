{
 "cells": [
  {
   "cell_type": "code",
   "execution_count": 17,
   "metadata": {},
   "outputs": [
    {
     "name": "stdout",
     "output_type": "stream",
     "text": [
      "Amazing\n",
      "                  10\n",
      "Amazing#############\n",
      "             Amazing\n",
      "#############Amazing\n",
      "      Amazing       \n",
      "......Amazing.......\n"
     ]
    }
   ],
   "source": [
    "test = \"Amazing\"\n",
    "number = 10\n",
    "print(f\"{test}\")\n",
    "print(f\"{number:20}\")\n",
    "print(f\"{test:#<20}\")\n",
    "print(f\"{test:>20}\")\n",
    "print(f\"{test:#>20}\")\n",
    "print(f\"{test:^20}\")\n",
    "print(f\"{test:.^20}\")"
   ]
  },
  {
   "cell_type": "code",
   "execution_count": 4,
   "metadata": {},
   "outputs": [
    {
     "name": "stdout",
     "output_type": "stream",
     "text": [
      "x = 10, y = 20\n",
      "x = 10, y = 20\n",
      "x * y = 200\n"
     ]
    }
   ],
   "source": [
    "x = 10\n",
    "y = 20\n",
    "\n",
    "print(f\"x = {x}, y = {y}\") \n",
    "print(f\"{x = }, {y = }\")\n",
    "print(f\"{x * y = }\")"
   ]
  }
 ],
 "metadata": {
  "kernelspec": {
   "display_name": "qfree_3_12_4",
   "language": "python",
   "name": "python3"
  },
  "language_info": {
   "codemirror_mode": {
    "name": "ipython",
    "version": 3
   },
   "file_extension": ".py",
   "mimetype": "text/x-python",
   "name": "python",
   "nbconvert_exporter": "python",
   "pygments_lexer": "ipython3",
   "version": "3.12.4"
  }
 },
 "nbformat": 4,
 "nbformat_minor": 2
}
