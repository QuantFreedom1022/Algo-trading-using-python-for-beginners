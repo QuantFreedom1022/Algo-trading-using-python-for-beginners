{
 "cells": [
  {
   "cell_type": "code",
   "execution_count": 1,
   "metadata": {},
   "outputs": [],
   "source": [
    "from datetime import timedelta, datetime"
   ]
  },
  {
   "cell_type": "code",
   "execution_count": 12,
   "metadata": {},
   "outputs": [
    {
     "name": "stdout",
     "output_type": "stream",
     "text": [
      "270 days, 9:18:00\n"
     ]
    },
    {
     "data": {
      "text/plain": [
       "datetime.timedelta(days=270, seconds=33480)"
      ]
     },
     "execution_count": 12,
     "metadata": {},
     "output_type": "execute_result"
    }
   ],
   "source": [
    "time_delt1 = timedelta(days= 270, hours = 9, minutes = 18)\n",
    "print(time_delt1)\n",
    "time_delt1"
   ]
  },
  {
   "cell_type": "code",
   "execution_count": 26,
   "metadata": {},
   "outputs": [
    {
     "name": "stdout",
     "output_type": "stream",
     "text": [
      "64 days, 8:05:56.000010\n"
     ]
    },
    {
     "data": {
      "text/plain": [
       "datetime.timedelta(days=64, seconds=29156, microseconds=10)"
      ]
     },
     "execution_count": 26,
     "metadata": {},
     "output_type": "execute_result"
    }
   ],
   "source": [
    "delta = timedelta(\n",
    "    days=50,\n",
    "    seconds=27,\n",
    "    microseconds=10,\n",
    "    milliseconds=29000,\n",
    "    minutes=5,\n",
    "    hours=8,\n",
    "    weeks=2\n",
    ")\n",
    "print(delta)\n",
    "delta"
   ]
  },
  {
   "cell_type": "code",
   "execution_count": 10,
   "metadata": {},
   "outputs": [
    {
     "name": "stdout",
     "output_type": "stream",
     "text": [
      "1 day, 0:00:00\n",
      "1:00:00\n",
      "0:30:00\n"
     ]
    },
    {
     "data": {
      "text/plain": [
       "datetime.timedelta(seconds=1800)"
      ]
     },
     "execution_count": 10,
     "metadata": {},
     "output_type": "execute_result"
    }
   ],
   "source": [
    "one_day = timedelta(days=1)\n",
    "print(one_day)\n",
    "\n",
    "\n",
    "one_hour = timedelta(hours=1)\n",
    "print(one_hour)\n",
    "\n",
    "\n",
    "thirty_minutes = timedelta(minutes=30)\n",
    "print(thirty_minutes)\n",
    "thirty_minutes"
   ]
  },
  {
   "cell_type": "code",
   "execution_count": 4,
   "metadata": {},
   "outputs": [
    {
     "name": "stdout",
     "output_type": "stream",
     "text": [
      "Current Date and Time: 2024-06-16 07:03:22.705129\n",
      "Next Day: 2024-06-17 07:03:22.705129\n"
     ]
    }
   ],
   "source": [
    "now = datetime.now()\n",
    "\n",
    "\n",
    "one_day = timedelta(days=1)\n",
    "\n",
    "\n",
    "next_day = now + one_day\n",
    "\n",
    "\n",
    "print(\"Current Date and Time:\", now)\n",
    "\n",
    "print(\"Next Day:\", next_day)"
   ]
  },
  {
   "cell_type": "code",
   "execution_count": null,
   "metadata": {},
   "outputs": [],
   "source": [
    "dt = datetime(2023, 5, 1, 12, 0, 0)\n",
    "five_days = timedelta(days=5)\n",
    "result = dt - five_days\n",
    "print(result)"
   ]
  },
  {
   "cell_type": "code",
   "execution_count": 5,
   "metadata": {},
   "outputs": [
    {
     "name": "stdout",
     "output_type": "stream",
     "text": [
      "10 days, 3:20:45\n"
     ]
    }
   ],
   "source": [
    "td = timedelta(days=10, hours=3, minutes=20, seconds=45)\n",
    "print(td)"
   ]
  },
  {
   "cell_type": "code",
   "execution_count": 6,
   "metadata": {},
   "outputs": [
    {
     "name": "stdout",
     "output_type": "stream",
     "text": [
      "2022-05-10 12:30:45\n",
      "10 days, 3:20:45\n",
      "2022-05-20 15:51:30\n",
      "2022-04-30 09:10:00\n"
     ]
    }
   ],
   "source": [
    "dt = datetime(2022, 5, 10, 12, 30, 45)\n",
    "print(dt)\n",
    "\n",
    "td = timedelta(days=10, hours=3, minutes=20, seconds=45)\n",
    "print(td)\n",
    "\n",
    "new_dt = dt + td\n",
    "print(new_dt)\n",
    "\n",
    "new_dt = dt - td\n",
    "print(new_dt)"
   ]
  },
  {
   "cell_type": "code",
   "execution_count": null,
   "metadata": {},
   "outputs": [],
   "source": [
    "date1 = datetime(2022, 5, 1)\n",
    "date2 = datetime(2022, 5, 10)\n",
    "diff = date2 - date1\n",
    "print(diff)"
   ]
  },
  {
   "cell_type": "code",
   "execution_count": 2,
   "metadata": {},
   "outputs": [
    {
     "name": "stdout",
     "output_type": "stream",
     "text": [
      "initial_date 2024-06-16 07:01:45.459025\n",
      "future_date_after_2yrs: 2026-06-16 07:01:45.459025\n",
      "future_date_after_2days: 2024-06-18 07:01:45.459025\n"
     ]
    }
   ],
   "source": [
    "ini_time_for_now = datetime.now()\n",
    "print(\"initial_date\", str(ini_time_for_now))\n",
    "\n",
    "future_date_after_2yrs = ini_time_for_now + timedelta(days=730)\n",
    "print(\"future_date_after_2yrs:\", str(future_date_after_2yrs))\n",
    "\n",
    "future_date_after_2days = ini_time_for_now + timedelta(days=2)\n",
    "print(\"future_date_after_2days:\", str(future_date_after_2days))"
   ]
  },
  {
   "cell_type": "code",
   "execution_count": null,
   "metadata": {},
   "outputs": [],
   "source": [
    "ini_time_for_now = datetime.now()\n",
    "print(\"initial_date:\", str(ini_time_for_now))\n",
    "\n",
    "past_date_before_2yrs = ini_time_for_now - timedelta(days=730)\n",
    "print(\"past_date_before_2yrs:\", str(past_date_before_2yrs))\n",
    "\n",
    "past_date_before_2hours = ini_time_for_now - timedelta(hours=2)\n",
    "print(\"past_date_before_2hours:\", str(past_date_before_2hours))"
   ]
  },
  {
   "cell_type": "code",
   "execution_count": null,
   "metadata": {},
   "outputs": [],
   "source": [
    "ini_time_for_now = datetime.now()\n",
    "print(\"initial_date\", str(ini_time_for_now))\n",
    "\n",
    "new_final_time = ini_time_for_now + timedelta(days=2)\n",
    "print(\"new_final_time\", str(new_final_time))\n",
    "print(\"Time difference:\", str(new_final_time - ini_time_for_now))"
   ]
  },
  {
   "cell_type": "code",
   "execution_count": 14,
   "metadata": {},
   "outputs": [
    {
     "name": "stdout",
     "output_type": "stream",
     "text": [
      "Today: 2024-06-16 07:06:44.930362\n",
      "Three days ago: 2024-06-13 07:06:44.930362\n"
     ]
    }
   ],
   "source": [
    "today = datetime.today()\n",
    "three_days_ago = today - timedelta(days=3)\n",
    "\n",
    "print(\"Today:\", today)\n",
    "print(\"Three days ago:\", three_days_ago)"
   ]
  },
  {
   "cell_type": "code",
   "execution_count": 15,
   "metadata": {},
   "outputs": [
    {
     "name": "stdout",
     "output_type": "stream",
     "text": [
      "t3 = 14 days, 13:55:39\n"
     ]
    }
   ],
   "source": [
    "t1 = timedelta(weeks = 2, days = 5, hours = 1, seconds = 33)\n",
    "t2 = timedelta(days = 4, hours = 11, minutes = 4, seconds = 54)\n",
    "\n",
    "t3 = t1 - t2\n",
    "\n",
    "print(\"t3 =\", t3)"
   ]
  },
  {
   "cell_type": "code",
   "execution_count": 20,
   "metadata": {},
   "outputs": [
    {
     "name": "stdout",
     "output_type": "stream",
     "text": [
      "t3 = 23 days, 12:05:27\n"
     ]
    },
    {
     "data": {
      "text/plain": [
       "datetime.timedelta(days=23, seconds=43527)"
      ]
     },
     "execution_count": 20,
     "metadata": {},
     "output_type": "execute_result"
    }
   ],
   "source": [
    "t3 = t1 + t2\n",
    "\n",
    "print(\"t3 =\", t3)\n",
    "t3"
   ]
  },
  {
   "cell_type": "code",
   "execution_count": 19,
   "metadata": {},
   "outputs": [
    {
     "name": "stdout",
     "output_type": "stream",
     "text": [
      "t3 = 4.267856309047612\n"
     ]
    },
    {
     "data": {
      "text/plain": [
       "4.267856309047612"
      ]
     },
     "execution_count": 19,
     "metadata": {},
     "output_type": "execute_result"
    }
   ],
   "source": [
    "t3 = t1 / t2\n",
    "\n",
    "print(\"t3 =\", t3)\n",
    "t3"
   ]
  },
  {
   "cell_type": "code",
   "execution_count": 21,
   "metadata": {},
   "outputs": [
    {
     "name": "stdout",
     "output_type": "stream",
     "text": [
      "Total seconds = 435633.233423\n"
     ]
    }
   ],
   "source": [
    "t = timedelta(days = 5, hours = 1, seconds = 33, microseconds = 233423)\n",
    "print(\"Total seconds =\", t.total_seconds())"
   ]
  },
  {
   "cell_type": "code",
   "execution_count": 22,
   "metadata": {},
   "outputs": [
    {
     "data": {
      "text/plain": [
       "435633.233423"
      ]
     },
     "execution_count": 22,
     "metadata": {},
     "output_type": "execute_result"
    }
   ],
   "source": [
    "t.total_seconds()"
   ]
  }
 ],
 "metadata": {
  "kernelspec": {
   "display_name": "qfree_3_12_4",
   "language": "python",
   "name": "python3"
  },
  "language_info": {
   "codemirror_mode": {
    "name": "ipython",
    "version": 3
   },
   "file_extension": ".py",
   "mimetype": "text/x-python",
   "name": "python",
   "nbconvert_exporter": "python",
   "pygments_lexer": "ipython3",
   "version": "3.12.4"
  }
 },
 "nbformat": 4,
 "nbformat_minor": 2
}
